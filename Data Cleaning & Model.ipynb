{
 "cells": [
  {
   "cell_type": "code",
   "execution_count": 1,
   "id": "79de4b77",
   "metadata": {},
   "outputs": [],
   "source": [
    "import numpy as np\n",
    "import pandas as pd\n",
    "import seaborn as sns\n",
    "import matplotlib.pyplot as plt"
   ]
  },
  {
   "cell_type": "code",
   "execution_count": 2,
   "id": "4c20088e",
   "metadata": {},
   "outputs": [],
   "source": [
    "df=pd.read_excel(\"project_02.xlsx\")"
   ]
  },
  {
   "cell_type": "code",
   "execution_count": 3,
   "id": "38dbdf09",
   "metadata": {},
   "outputs": [
    {
     "data": {
      "text/html": [
       "<div>\n",
       "<style scoped>\n",
       "    .dataframe tbody tr th:only-of-type {\n",
       "        vertical-align: middle;\n",
       "    }\n",
       "\n",
       "    .dataframe tbody tr th {\n",
       "        vertical-align: top;\n",
       "    }\n",
       "\n",
       "    .dataframe thead th {\n",
       "        text-align: right;\n",
       "    }\n",
       "</style>\n",
       "<table border=\"1\" class=\"dataframe\">\n",
       "  <thead>\n",
       "    <tr style=\"text-align: right;\">\n",
       "      <th></th>\n",
       "      <th>Rest_Name</th>\n",
       "      <th>Ratings</th>\n",
       "      <th>Price_for_two</th>\n",
       "      <th>Cusines</th>\n",
       "      <th>Location</th>\n",
       "      <th>Delivery_review_no</th>\n",
       "      <th>URL</th>\n",
       "    </tr>\n",
       "  </thead>\n",
       "  <tbody>\n",
       "    <tr>\n",
       "      <th>0</th>\n",
       "      <td>Hotel Empire</td>\n",
       "      <td>4.3</td>\n",
       "      <td>₹450 for two</td>\n",
       "      <td>North Indian, Kebabs</td>\n",
       "      <td>Brigade Road</td>\n",
       "      <td>10K+ ratings</td>\n",
       "      <td>https://www.swiggy.com/restaurants/dilwale-res...</td>\n",
       "    </tr>\n",
       "    <tr>\n",
       "      <th>1</th>\n",
       "      <td>Protein Station</td>\n",
       "      <td>NEW</td>\n",
       "      <td>₹400 for two</td>\n",
       "      <td>Healthy Food, Salads</td>\n",
       "      <td>Basavanagudi</td>\n",
       "      <td>NaN</td>\n",
       "      <td>https://www.swiggy.com/restaurants/dilwale-res...</td>\n",
       "    </tr>\n",
       "    <tr>\n",
       "      <th>2</th>\n",
       "      <td>Halli Donne Biryani</td>\n",
       "      <td>3.9</td>\n",
       "      <td>₹200 for two</td>\n",
       "      <td>South Indian</td>\n",
       "      <td>Koramangala</td>\n",
       "      <td>1K+ ratings</td>\n",
       "      <td>https://www.swiggy.com/restaurants/dilwale-res...</td>\n",
       "    </tr>\n",
       "    <tr>\n",
       "      <th>3</th>\n",
       "      <td>Edesia by Freshmenu</td>\n",
       "      <td>3.9</td>\n",
       "      <td>₹150 for two</td>\n",
       "      <td>Desserts, Bakery</td>\n",
       "      <td>Richmond Town</td>\n",
       "      <td>100+ ratings</td>\n",
       "      <td>https://www.swiggy.com/restaurants/dilwale-res...</td>\n",
       "    </tr>\n",
       "    <tr>\n",
       "      <th>4</th>\n",
       "      <td>Mangalore Sea Palate</td>\n",
       "      <td>4.1</td>\n",
       "      <td>₹300 for two</td>\n",
       "      <td>Seafood, South Indian</td>\n",
       "      <td>Jayanagar</td>\n",
       "      <td>100+ ratings</td>\n",
       "      <td>https://www.swiggy.com/restaurants/dilwale-res...</td>\n",
       "    </tr>\n",
       "    <tr>\n",
       "      <th>...</th>\n",
       "      <td>...</td>\n",
       "      <td>...</td>\n",
       "      <td>...</td>\n",
       "      <td>...</td>\n",
       "      <td>...</td>\n",
       "      <td>...</td>\n",
       "      <td>...</td>\n",
       "    </tr>\n",
       "    <tr>\n",
       "      <th>1361</th>\n",
       "      <td>Dream Cakes</td>\n",
       "      <td>--</td>\n",
       "      <td>₹200 for two</td>\n",
       "      <td>Bakery</td>\n",
       "      <td>Jayanagar</td>\n",
       "      <td>Too Few Ratings</td>\n",
       "      <td>https://www.swiggy.com/restaurants/dilwale-res...</td>\n",
       "    </tr>\n",
       "    <tr>\n",
       "      <th>1362</th>\n",
       "      <td>Dev Foods Jigarthanda</td>\n",
       "      <td>4.3</td>\n",
       "      <td>₹100 for two</td>\n",
       "      <td>South Indian, Chinese</td>\n",
       "      <td>Malleshwaram</td>\n",
       "      <td>100+ ratings</td>\n",
       "      <td>https://www.swiggy.com/restaurants/dilwale-res...</td>\n",
       "    </tr>\n",
       "    <tr>\n",
       "      <th>1363</th>\n",
       "      <td>SLN Tiffin Room</td>\n",
       "      <td>--</td>\n",
       "      <td>₹100 for two</td>\n",
       "      <td>Biryani</td>\n",
       "      <td>Vijayanagar</td>\n",
       "      <td>Too Few Ratings</td>\n",
       "      <td>https://www.swiggy.com/restaurants/dilwale-res...</td>\n",
       "    </tr>\n",
       "    <tr>\n",
       "      <th>1364</th>\n",
       "      <td>Tea Day</td>\n",
       "      <td>NEW</td>\n",
       "      <td>₹200 for two</td>\n",
       "      <td>Beverages, Snacks</td>\n",
       "      <td>Vijayanagar</td>\n",
       "      <td>NaN</td>\n",
       "      <td>https://www.swiggy.com/restaurants/dilwale-res...</td>\n",
       "    </tr>\n",
       "    <tr>\n",
       "      <th>1365</th>\n",
       "      <td>Dilwale Restaurant</td>\n",
       "      <td>3.7</td>\n",
       "      <td>₹300 for two</td>\n",
       "      <td>Juices, Beverages</td>\n",
       "      <td>Central Bangalore</td>\n",
       "      <td>50+ ratings</td>\n",
       "      <td>https://www.swiggy.com/restaurants/dilwale-res...</td>\n",
       "    </tr>\n",
       "  </tbody>\n",
       "</table>\n",
       "<p>1366 rows × 7 columns</p>\n",
       "</div>"
      ],
      "text/plain": [
       "                  Rest_Name Ratings Price_for_two                Cusines  \\\n",
       "0              Hotel Empire     4.3  ₹450 for two   North Indian, Kebabs   \n",
       "1           Protein Station     NEW  ₹400 for two   Healthy Food, Salads   \n",
       "2       Halli Donne Biryani     3.9  ₹200 for two           South Indian   \n",
       "3       Edesia by Freshmenu     3.9  ₹150 for two       Desserts, Bakery   \n",
       "4      Mangalore Sea Palate     4.1  ₹300 for two  Seafood, South Indian   \n",
       "...                     ...     ...           ...                    ...   \n",
       "1361            Dream Cakes      --  ₹200 for two                 Bakery   \n",
       "1362  Dev Foods Jigarthanda     4.3  ₹100 for two  South Indian, Chinese   \n",
       "1363        SLN Tiffin Room      --  ₹100 for two                Biryani   \n",
       "1364                Tea Day     NEW  ₹200 for two      Beverages, Snacks   \n",
       "1365     Dilwale Restaurant     3.7  ₹300 for two      Juices, Beverages   \n",
       "\n",
       "               Location Delivery_review_no  \\\n",
       "0          Brigade Road       10K+ ratings   \n",
       "1          Basavanagudi                NaN   \n",
       "2           Koramangala        1K+ ratings   \n",
       "3         Richmond Town       100+ ratings   \n",
       "4             Jayanagar       100+ ratings   \n",
       "...                 ...                ...   \n",
       "1361          Jayanagar    Too Few Ratings   \n",
       "1362       Malleshwaram       100+ ratings   \n",
       "1363        Vijayanagar    Too Few Ratings   \n",
       "1364        Vijayanagar                NaN   \n",
       "1365  Central Bangalore        50+ ratings   \n",
       "\n",
       "                                                    URL  \n",
       "0     https://www.swiggy.com/restaurants/dilwale-res...  \n",
       "1     https://www.swiggy.com/restaurants/dilwale-res...  \n",
       "2     https://www.swiggy.com/restaurants/dilwale-res...  \n",
       "3     https://www.swiggy.com/restaurants/dilwale-res...  \n",
       "4     https://www.swiggy.com/restaurants/dilwale-res...  \n",
       "...                                                 ...  \n",
       "1361  https://www.swiggy.com/restaurants/dilwale-res...  \n",
       "1362  https://www.swiggy.com/restaurants/dilwale-res...  \n",
       "1363  https://www.swiggy.com/restaurants/dilwale-res...  \n",
       "1364  https://www.swiggy.com/restaurants/dilwale-res...  \n",
       "1365  https://www.swiggy.com/restaurants/dilwale-res...  \n",
       "\n",
       "[1366 rows x 7 columns]"
      ]
     },
     "execution_count": 3,
     "metadata": {},
     "output_type": "execute_result"
    }
   ],
   "source": [
    "df"
   ]
  },
  {
   "cell_type": "code",
   "execution_count": 4,
   "id": "24f68f7c",
   "metadata": {},
   "outputs": [
    {
     "data": {
      "text/html": [
       "<div>\n",
       "<style scoped>\n",
       "    .dataframe tbody tr th:only-of-type {\n",
       "        vertical-align: middle;\n",
       "    }\n",
       "\n",
       "    .dataframe tbody tr th {\n",
       "        vertical-align: top;\n",
       "    }\n",
       "\n",
       "    .dataframe thead th {\n",
       "        text-align: right;\n",
       "    }\n",
       "</style>\n",
       "<table border=\"1\" class=\"dataframe\">\n",
       "  <thead>\n",
       "    <tr style=\"text-align: right;\">\n",
       "      <th></th>\n",
       "      <th>Rest_Name</th>\n",
       "      <th>Ratings</th>\n",
       "      <th>Price_for_two</th>\n",
       "      <th>Cusines</th>\n",
       "      <th>Location</th>\n",
       "      <th>Delivery_review_no</th>\n",
       "      <th>URL</th>\n",
       "    </tr>\n",
       "  </thead>\n",
       "  <tbody>\n",
       "    <tr>\n",
       "      <th>172</th>\n",
       "      <td>Mangalore Sea Palate</td>\n",
       "      <td>4.1</td>\n",
       "      <td>₹300 for two</td>\n",
       "      <td>Seafood, South Indian</td>\n",
       "      <td>Jayanagar</td>\n",
       "      <td>100+ ratings</td>\n",
       "      <td>https://www.swiggy.com/restaurants/dilwale-res...</td>\n",
       "    </tr>\n",
       "    <tr>\n",
       "      <th>186</th>\n",
       "      <td>Subway</td>\n",
       "      <td>4.1</td>\n",
       "      <td>₹350 for two</td>\n",
       "      <td>Fast Food, Salads</td>\n",
       "      <td>Ashok Nagar</td>\n",
       "      <td>1K+ ratings</td>\n",
       "      <td>https://www.swiggy.com/restaurants/dilwale-res...</td>\n",
       "    </tr>\n",
       "    <tr>\n",
       "      <th>187</th>\n",
       "      <td>Vasavi Andhra Mess</td>\n",
       "      <td>3.8</td>\n",
       "      <td>₹200 for two</td>\n",
       "      <td>South Indian, Andhra</td>\n",
       "      <td>Malleshwaram</td>\n",
       "      <td>100+ ratings</td>\n",
       "      <td>https://www.swiggy.com/restaurants/dilwale-res...</td>\n",
       "    </tr>\n",
       "    <tr>\n",
       "      <th>273</th>\n",
       "      <td>Theobroma</td>\n",
       "      <td>4.6</td>\n",
       "      <td>₹500 for two</td>\n",
       "      <td>Desserts, Bakery</td>\n",
       "      <td>Ashok Nagar</td>\n",
       "      <td>1K+ ratings</td>\n",
       "      <td>https://www.swiggy.com/restaurants/dilwale-res...</td>\n",
       "    </tr>\n",
       "    <tr>\n",
       "      <th>276</th>\n",
       "      <td>Tewari Bros Mithai Shop</td>\n",
       "      <td>3.8</td>\n",
       "      <td>₹150 for two</td>\n",
       "      <td>Gujarati, Rajasthani</td>\n",
       "      <td>Commercial Street</td>\n",
       "      <td>5K+ ratings</td>\n",
       "      <td>https://www.swiggy.com/restaurants/dilwale-res...</td>\n",
       "    </tr>\n",
       "    <tr>\n",
       "      <th>...</th>\n",
       "      <td>...</td>\n",
       "      <td>...</td>\n",
       "      <td>...</td>\n",
       "      <td>...</td>\n",
       "      <td>...</td>\n",
       "      <td>...</td>\n",
       "      <td>...</td>\n",
       "    </tr>\n",
       "    <tr>\n",
       "      <th>1333</th>\n",
       "      <td>Andhra Meal Company</td>\n",
       "      <td>3.5</td>\n",
       "      <td>₹200 for two</td>\n",
       "      <td>South Indian, Home Food</td>\n",
       "      <td>Indiranagar</td>\n",
       "      <td>100+ ratings</td>\n",
       "      <td>https://www.swiggy.com/restaurants/dilwale-res...</td>\n",
       "    </tr>\n",
       "    <tr>\n",
       "      <th>1334</th>\n",
       "      <td>V2 Prive Restaurant</td>\n",
       "      <td>NEW</td>\n",
       "      <td>₹500 for two</td>\n",
       "      <td>Chinese, Snacks</td>\n",
       "      <td>Basavanagudi</td>\n",
       "      <td>NaN</td>\n",
       "      <td>https://www.swiggy.com/restaurants/dilwale-res...</td>\n",
       "    </tr>\n",
       "    <tr>\n",
       "      <th>1335</th>\n",
       "      <td>The Wok Co</td>\n",
       "      <td>3.8</td>\n",
       "      <td>₹450 for two</td>\n",
       "      <td>Chinese, Thai</td>\n",
       "      <td>Magrath Road</td>\n",
       "      <td>20+ ratings</td>\n",
       "      <td>https://www.swiggy.com/restaurants/dilwale-res...</td>\n",
       "    </tr>\n",
       "    <tr>\n",
       "      <th>1336</th>\n",
       "      <td>Dum Shahi</td>\n",
       "      <td>4.1</td>\n",
       "      <td>₹500 for two</td>\n",
       "      <td>Indian</td>\n",
       "      <td>Koramangala</td>\n",
       "      <td>20+ ratings</td>\n",
       "      <td>https://www.swiggy.com/restaurants/dilwale-res...</td>\n",
       "    </tr>\n",
       "    <tr>\n",
       "      <th>1339</th>\n",
       "      <td>SNAK's</td>\n",
       "      <td>NEW</td>\n",
       "      <td>₹600 for two</td>\n",
       "      <td>Continental, Italian-American</td>\n",
       "      <td>Basaveshwaranagar</td>\n",
       "      <td>NaN</td>\n",
       "      <td>https://www.swiggy.com/restaurants/dilwale-res...</td>\n",
       "    </tr>\n",
       "  </tbody>\n",
       "</table>\n",
       "<p>94 rows × 7 columns</p>\n",
       "</div>"
      ],
      "text/plain": [
       "                    Rest_Name Ratings Price_for_two  \\\n",
       "172      Mangalore Sea Palate     4.1  ₹300 for two   \n",
       "186                    Subway     4.1  ₹350 for two   \n",
       "187        Vasavi Andhra Mess     3.8  ₹200 for two   \n",
       "273                 Theobroma     4.6  ₹500 for two   \n",
       "276   Tewari Bros Mithai Shop     3.8  ₹150 for two   \n",
       "...                       ...     ...           ...   \n",
       "1333      Andhra Meal Company     3.5  ₹200 for two   \n",
       "1334      V2 Prive Restaurant     NEW  ₹500 for two   \n",
       "1335               The Wok Co     3.8  ₹450 for two   \n",
       "1336                Dum Shahi     4.1  ₹500 for two   \n",
       "1339                   SNAK's     NEW  ₹600 for two   \n",
       "\n",
       "                            Cusines           Location Delivery_review_no  \\\n",
       "172           Seafood, South Indian          Jayanagar       100+ ratings   \n",
       "186               Fast Food, Salads        Ashok Nagar        1K+ ratings   \n",
       "187            South Indian, Andhra       Malleshwaram       100+ ratings   \n",
       "273                Desserts, Bakery        Ashok Nagar        1K+ ratings   \n",
       "276            Gujarati, Rajasthani  Commercial Street        5K+ ratings   \n",
       "...                             ...                ...                ...   \n",
       "1333        South Indian, Home Food        Indiranagar       100+ ratings   \n",
       "1334                Chinese, Snacks       Basavanagudi                NaN   \n",
       "1335                  Chinese, Thai       Magrath Road        20+ ratings   \n",
       "1336                         Indian        Koramangala        20+ ratings   \n",
       "1339  Continental, Italian-American  Basaveshwaranagar                NaN   \n",
       "\n",
       "                                                    URL  \n",
       "172   https://www.swiggy.com/restaurants/dilwale-res...  \n",
       "186   https://www.swiggy.com/restaurants/dilwale-res...  \n",
       "187   https://www.swiggy.com/restaurants/dilwale-res...  \n",
       "273   https://www.swiggy.com/restaurants/dilwale-res...  \n",
       "276   https://www.swiggy.com/restaurants/dilwale-res...  \n",
       "...                                                 ...  \n",
       "1333  https://www.swiggy.com/restaurants/dilwale-res...  \n",
       "1334  https://www.swiggy.com/restaurants/dilwale-res...  \n",
       "1335  https://www.swiggy.com/restaurants/dilwale-res...  \n",
       "1336  https://www.swiggy.com/restaurants/dilwale-res...  \n",
       "1339  https://www.swiggy.com/restaurants/dilwale-res...  \n",
       "\n",
       "[94 rows x 7 columns]"
      ]
     },
     "execution_count": 4,
     "metadata": {},
     "output_type": "execute_result"
    }
   ],
   "source": [
    "df[df.duplicated()]"
   ]
  },
  {
   "cell_type": "code",
   "execution_count": 5,
   "id": "331af98b",
   "metadata": {},
   "outputs": [],
   "source": [
    "df.drop_duplicates(keep=\"first\",inplace=True)\n",
    "df.reset_index(drop=True,inplace=True)"
   ]
  },
  {
   "cell_type": "code",
   "execution_count": 6,
   "id": "55b6cd68",
   "metadata": {},
   "outputs": [
    {
     "name": "stdout",
     "output_type": "stream",
     "text": [
      "Rest_Name\n",
      "['13th Floor' '154 Breakfast Club' '1BHK- Bar House Kitchen' ...\n",
      " 'Zubaan Arabian Kitchen' 'coasters Juice bar'\n",
      " 'energii - Bowls, Salads & Smoothies']\n",
      "\n",
      "\n",
      "Ratings\n",
      "['--' '1.3' '2.1' '2.3' '2.4' '2.5' '2.6' '2.8' '2.9' '3.0' '3.1' '3.2'\n",
      " '3.3' '3.4' '3.5' '3.6' '3.7' '3.8' '3.9' '4.0' '4.1' '4.2' '4.3' '4.4'\n",
      " '4.5' '4.6' '4.7' '4.8' '4.9' '5.0' 'NEW']\n",
      "\n",
      "\n",
      "Price_for_two\n",
      "['Currently₹100 for twoUh-oh! Outlet is not accepting orders at the moment. They should be back by 11:00 AM tomorrow'\n",
      " 'Currently₹100 for twoUh-oh! Outlet is not accepting orders at the moment. They should be back by 7:00 AM tomorrow'\n",
      " 'Currently₹150 for twoUh-oh! Outlet is not accepting orders at the moment. They should be back by 1:48 PM'\n",
      " 'Currently₹200 for twoUh-oh! Outlet is not accepting orders at the moment. They should be back by 4:00 PM'\n",
      " 'Currently₹250 for twoUh-oh! Outlet is not accepting orders at the moment. They should be back by 11:30 AM tomorrow'\n",
      " 'Currently₹300 for twoUh-oh! Outlet is not accepting orders at the moment. They should be back by 10:00 AM tomorrow'\n",
      " 'Currently₹500 for twoUh-oh! Outlet is not accepting orders at the moment. They should be back by 11:55 AM tomorrow'\n",
      " 'Currently₹760 for twoUh-oh! Outlet is not accepting orders at the moment. They should be back by 11:30 AM tomorrow'\n",
      " 'Opening₹399 for twoOpens today in 14 mins'\n",
      " 'Opening₹399 for twoOpens today in 15 mins'\n",
      " 'Opening₹400 for twoOpens today in 19 mins'\n",
      " 'Opening₹600 for twoOpens today in 13 mins' '₹10 for two' '₹100 for two'\n",
      " '₹1000 for two' '₹1099 for two' '₹1100 for two' '₹120 for two'\n",
      " '₹1200 for two' '₹130 for two' '₹1300 for two' '₹140 for two'\n",
      " '₹149 for two' '₹150 for two' '₹1500 for two' '₹160 for two'\n",
      " '₹1600 for two' '₹169 for two' '₹170 for two' '₹175 for two'\n",
      " '₹180 for two' '₹1800 for two' '₹190 for two' '₹193 for two'\n",
      " '₹197 for two' '₹198 for two' '₹199 for two' '₹2 for two' '₹200 for two'\n",
      " '₹2000 for two' '₹220 for two' '₹23 for two' '₹230 for two'\n",
      " '₹240 for two' '₹249 for two' '₹250 for two' '₹251 for two'\n",
      " '₹270 for two' '₹280 for two' '₹299 for two' '₹30 for two' '₹300 for two'\n",
      " '₹310 for two' '₹32 for two' '₹320 for two' '₹349 for two' '₹350 for two'\n",
      " '₹380 for two' '₹398 for two' '₹399 for two' '₹40 for two' '₹400 for two'\n",
      " '₹430 for two' '₹450 for two' '₹499 for two' '₹5 for two' '₹50 for two'\n",
      " '₹500 for two' '₹532 for two' '₹550 for two' '₹599 for two'\n",
      " '₹600 for two' '₹650 for two' '₹69 for two' '₹70 for two' '₹700 for two'\n",
      " '₹75 for two' '₹750 for two' '₹80 for two' '₹800 for two' '₹820 for two'\n",
      " '₹850 for two' '₹900 for two' '₹99 for two']\n",
      "\n",
      "\n",
      "Cusines\n",
      "['American' 'American, Asian' 'American, Beverages'\n",
      " 'American, Continental' 'American, Fast Food' 'American, Grill'\n",
      " 'American, Healthy Food' 'American, Italian' 'American, Mexican'\n",
      " 'American, Pizzas' 'American, Snacks' 'American, Steakhouse' 'Andhra'\n",
      " 'Andhra, Biryani' 'Andhra, Chinese' 'Andhra, North Indian'\n",
      " 'Andhra, South Indian' 'Arabian, Biryani' 'Arabian, Continental'\n",
      " 'Arabian, Indian' 'Arabian, Lebanese' 'Arabian, Snacks'\n",
      " 'Arabian, Tandoor' 'Asian, Beverages' 'Asian, Chinese' 'Asian, Desserts'\n",
      " 'Asian, Italian' 'Asian, Mexican' 'Asian, Pan-Asian'\n",
      " 'Asian, South Indian' 'Asian, Thai' 'Bakery' 'Bakery, Beverages'\n",
      " 'Bakery, Burgers' 'Bakery, Desserts' 'Bakery, Fast Food' 'Bakery, Indian'\n",
      " 'Bakery, Pizzas' 'Bakery, Salads' 'Bakery, Snacks' 'Bakery, South Indian'\n",
      " 'Bakery, Sweets' 'Bakery, Waffle' 'Barbecue, Indian' 'Bengali'\n",
      " 'Bengali, Biryani' 'Bengali, Chinese' 'Bengali, Desserts'\n",
      " 'Bengali, Mughlai' 'Bengali, Oriya' 'Bengali, Thalis' 'Beverages'\n",
      " 'Beverages, Bakery' 'Beverages, Bengali' 'Beverages, Cafe'\n",
      " 'Beverages, Chinese' 'Beverages, Continental' 'Beverages, Desserts'\n",
      " 'Beverages, Fast Food' 'Beverages, Ice Cream' 'Beverages, Indian'\n",
      " 'Beverages, Italian' 'Beverages, Italian-American' 'Beverages, Juices'\n",
      " 'Beverages, Keto' 'Beverages, Pizzas' 'Beverages, Salads'\n",
      " 'Beverages, Snacks' 'Beverages, South Indian' 'Biryani' 'Biryani, Andhra'\n",
      " 'Biryani, Barbecue' 'Biryani, Chettinad' 'Biryani, Chinese'\n",
      " 'Biryani, Desserts' 'Biryani, Hyderabadi' 'Biryani, Indian'\n",
      " 'Biryani, Kebabs' 'Biryani, Kerala' 'Biryani, Mughlai'\n",
      " 'Biryani, North Indian' 'Biryani, South Indian' 'British, Italian'\n",
      " 'Burgers' 'Burgers, American' 'Burgers, Beverages' 'Burgers, Biryani'\n",
      " 'Burgers, Chinese' 'Burgers, Continental' 'Burgers, Fast Food'\n",
      " 'Burgers, Pizzas' 'Burgers, Snacks' 'Burgers, Waffle' 'Burmese, Asian'\n",
      " 'Cafe, Beverages' 'Cafe, Fast Food' 'Cafe, Healthy Food' 'Cafe, Pastas'\n",
      " 'Cafe, Snacks' 'Chaat, Fast Food' 'Chaat, Pizzas' 'Chaat, Snacks'\n",
      " 'Chettinad, South Indian' 'Chettinad, Thalis' 'Chinese'\n",
      " 'Chinese, American' 'Chinese, Asian' 'Chinese, Beverages'\n",
      " 'Chinese, Biryani' 'Chinese, Coastal' 'Chinese, Continental'\n",
      " 'Chinese, Desserts' 'Chinese, European' 'Chinese, Fast Food'\n",
      " 'Chinese, Indian' 'Chinese, Italian' 'Chinese, Italian-American'\n",
      " 'Chinese, Jain' 'Chinese, Mughlai' 'Chinese, North Indian'\n",
      " 'Chinese, Oriental' 'Chinese, Pan-Asian' 'Chinese, Salads'\n",
      " 'Chinese, Seafood' 'Chinese, Snacks' 'Chinese, South Indian'\n",
      " 'Chinese, Tandoor' 'Chinese, Thai' 'Chinese, Tibetan' 'Coastal, Andhra'\n",
      " 'Coastal, Konkan' 'Continental' 'Continental, American'\n",
      " 'Continental, Asian' 'Continental, Beverages' 'Continental, Cafe'\n",
      " 'Continental, Chinese' 'Continental, Desserts' 'Continental, European'\n",
      " 'Continental, Italian' 'Continental, Italian-American'\n",
      " 'Continental, North Indian' 'Continental, Pastas' 'Continental, Snacks'\n",
      " 'Desserts' 'Desserts, American' 'Desserts, Bakery' 'Desserts, Beverages'\n",
      " 'Desserts, Biryani' 'Desserts, Combo' 'Desserts, Continental'\n",
      " 'Desserts, Greek' 'Desserts, Ice Cream' 'Desserts, Indian'\n",
      " 'Desserts, Italian' 'Desserts, Salads' 'Desserts, Snacks'\n",
      " 'Desserts, South Indian' 'Desserts, Sweets' 'Desserts, Turkish'\n",
      " 'European, Continental' 'European, Italian' 'Fast Food'\n",
      " 'Fast Food, American' 'Fast Food, Bengali' 'Fast Food, Beverages'\n",
      " 'Fast Food, Burgers' 'Fast Food, Chinese' 'Fast Food, Desserts'\n",
      " 'Fast Food, Ice Cream' 'Fast Food, Indian' 'Fast Food, Italian'\n",
      " 'Fast Food, Juices' 'Fast Food, Mexican' 'Fast Food, North Indian'\n",
      " 'Fast Food, Pastas' 'Fast Food, Pizzas' 'Fast Food, Punjabi'\n",
      " 'Fast Food, Salads' 'Fast Food, Snacks' 'French, Bakery'\n",
      " 'French, Italian' 'Goan, Mangalorean' 'Gujarati, Rajasthani'\n",
      " 'Healthy Food, American' 'Healthy Food, Beverages'\n",
      " 'Healthy Food, Continental' 'Healthy Food, Fast Food'\n",
      " 'Healthy Food, Indian' 'Healthy Food, Jain' 'Healthy Food, Keto'\n",
      " 'Healthy Food, Pizzas' 'Healthy Food, Salads' 'Home Food, Indian'\n",
      " 'Home Food, North Indian' 'Hyderabadi, Andhra' 'Ice Cream'\n",
      " 'Ice Cream Cakes, Desserts' 'Ice Cream, Beverages' 'Ice Cream, Chinese'\n",
      " 'Ice Cream, Desserts' 'Ice Cream, Ice Cream Cakes' 'Ice Cream, Indian'\n",
      " 'Ice Cream, Juices' 'Ice Cream, Snacks' 'Indian' 'Indian, American'\n",
      " 'Indian, Asian' 'Indian, Beverages' 'Indian, Biryani' 'Indian, Chaat'\n",
      " 'Indian, Chinese' 'Indian, Combo' 'Indian, Continental'\n",
      " 'Indian, Fast Food' 'Indian, Healthy Food' 'Indian, Home Food'\n",
      " 'Indian, Ice Cream' 'Indian, Jain' 'Indian, Mangalorean'\n",
      " 'Indian, Mughlai' 'Indian, North Indian' 'Indian, Pizzas'\n",
      " 'Indian, Punjabi' 'Indian, Seafood' 'Indian, Snacks'\n",
      " 'Indian, South Indian' 'Indian, Sweets' 'Indian, Thalis'\n",
      " 'Italian, American' 'Italian, Asian' 'Italian, Chinese'\n",
      " 'Italian, Continental' 'Italian, Desserts' 'Italian, French'\n",
      " 'Italian, Indian' 'Italian, Mexican' 'Italian, Pastas' 'Italian, Pizzas'\n",
      " 'Italian, Salads' 'Italian, Snacks' 'Italian-American, Continental'\n",
      " 'Italian-American, Fast Food' 'Jain, North Indian' 'Japanese'\n",
      " 'Japanese, Asian' 'Japanese, Thai' 'Juices' 'Juices, American'\n",
      " 'Juices, Beverages' 'Juices, Fast Food' 'Juices, Healthy Food'\n",
      " 'Kebabs, Biryani' 'Kebabs, Fast Food' 'Kebabs, Snacks' 'Kerala'\n",
      " 'Kerala, Biryani' 'Kerala, Seafood' 'Kerala, Snacks'\n",
      " 'Kerala, South Indian' 'Lebanese, Greek' 'Maharashtrian, Seafood'\n",
      " 'Maharashtrian, Snacks' 'Maharashtrian, Street Food'\n",
      " 'Mangalorean, Biryani' 'Mangalorean, Chinese' 'Mangalorean, Seafood'\n",
      " 'Mangalorean, South Indian' 'Mexican' 'Mexican, Salads'\n",
      " 'Middle Eastern, Lebanese' 'Mughlai, North Indian' 'North Indian'\n",
      " 'North Indian, Barbecue' 'North Indian, Bengali'\n",
      " 'North Indian, Beverages' 'North Indian, Biryani' 'North Indian, Chaat'\n",
      " 'North Indian, Chinese' 'North Indian, Desserts'\n",
      " 'North Indian, Fast Food' 'North Indian, Home Food'\n",
      " 'North Indian, Indian' 'North Indian, Jain' 'North Indian, Kebabs'\n",
      " 'North Indian, Mughlai' 'North Indian, Punjabi'\n",
      " 'North Indian, Rajasthani' 'North Indian, Snacks'\n",
      " 'North Indian, South Indian' 'North Indian, Street Food'\n",
      " 'North Indian, Sweets' 'North Indian, Tandoor' 'North Indian, Thai'\n",
      " 'North Indian, Thalis' 'Paan, Desserts' 'Paan, Snacks' 'Paan, Sweets'\n",
      " 'Pan-Asian, Chinese' 'Pan-Asian, Continental' 'Pastas, Italian' 'Pizzas'\n",
      " 'Pizzas, American' 'Pizzas, Beverages' 'Pizzas, Burgers'\n",
      " 'Pizzas, Continental' 'Pizzas, Desserts' 'Pizzas, Fast Food'\n",
      " 'Pizzas, Indian' 'Pizzas, Italian' 'Pizzas, Italian-American'\n",
      " 'Pizzas, Pastas' 'Pizzas, Snacks' 'Pizzas, Waffle' 'Portuguese, Burgers'\n",
      " 'Punjabi, Chinese' 'Punjabi, North Indian' 'Punjabi, Tandoor'\n",
      " 'Rajasthani' 'Rajasthani, North Indian' 'Salads, Healthy Food'\n",
      " 'Salads, Juices' 'Salads, Keto' 'Seafood, Andhra' 'Seafood, Chinese'\n",
      " 'Seafood, Indian' 'Seafood, North Indian' 'Seafood, South Indian'\n",
      " 'Seafood, Tandoor' 'Snacks' 'Snacks, American' 'Snacks, Bakery'\n",
      " 'Snacks, Beverages' 'Snacks, Burgers' 'Snacks, Chaat' 'Snacks, Chinese'\n",
      " 'Snacks, Continental' 'Snacks, Desserts' 'Snacks, Fast Food'\n",
      " 'Snacks, Indian' 'Snacks, North Indian' 'Snacks, Pizzas'\n",
      " 'Snacks, South Indian' 'Snacks, Sweets' 'South Indian'\n",
      " 'South Indian, Andhra' 'South Indian, Beverages' 'South Indian, Biryani'\n",
      " 'South Indian, Chaat' 'South Indian, Chettinad' 'South Indian, Chinese'\n",
      " 'South Indian, Coastal' 'South Indian, Combo' 'South Indian, Desserts'\n",
      " 'South Indian, Healthy Food' 'South Indian, Home Food'\n",
      " 'South Indian, Indian' 'South Indian, Kerala'\n",
      " 'South Indian, North Indian' 'South Indian, Snacks'\n",
      " 'South Indian, Sweets' 'South Indian, Thalis' 'Street Food'\n",
      " 'Street Food, Chaat' 'Street Food, Snacks' 'Street Food, South Indian'\n",
      " 'Sweets' 'Sweets, Bakery' 'Sweets, Chaat' 'Sweets, Desserts'\n",
      " 'Sweets, Indian' 'Sweets, Snacks' 'Sweets, Waffle' 'Tandoor, Biryani'\n",
      " 'Tandoor, Indian' 'Tandoor, North Indian' 'Tex-Mex, Pizzas' 'Thai'\n",
      " 'Thai, Burmese' 'Thai, Seafood' 'Thalis' 'Thalis, North Indian'\n",
      " 'Thalis, Sweets' 'Tibetan, Chinese' 'Tibetan, Healthy Food'\n",
      " 'Tibetan, Nepalese' 'Waffle' 'Waffle, Desserts']\n",
      "\n",
      "\n",
      "Location\n",
      "['4th Block' 'Adugodi' 'Ashok Nagar' 'Audgodi' 'Austin Town' 'BTM'\n",
      " 'BTM Layout' 'BTM layout' 'Banashankari' 'Bannerghatta Main Road'\n",
      " 'Basavanagudi' 'Basavangudi' 'Basaveshwar Nagar' 'Basaveshwaranagar'\n",
      " 'Brigade Road' 'Btm Layout' 'Bull Temple Road' 'Central Bangalore'\n",
      " 'Chamarajpet' 'Chamrajpet' 'Chikpete' 'Church Street' 'Church street'\n",
      " 'City Market' 'Commercial Street' 'Cunningham Road' 'Dispensary Rd'\n",
      " 'Domlur' 'Domlur layout' 'Ejipura' 'FORUM REX WALK' 'Frazer Town'\n",
      " 'Gandhi Nagar' 'Halasuru' 'Indiranagar' 'Jaya Nagar' 'Jayanagar'\n",
      " 'KORAMANGALA' 'Koramangala' 'Lakshmi Road' 'Lavelle Road' 'Lavelle road'\n",
      " 'M G Road' 'MAGARATH ROAD' 'MG Road' 'Magrath Road' 'Majestic'\n",
      " 'Malleshwaram' 'Malleswaram' 'Mg Road' 'Monarch Plaza' 'Mount Joy Rd'\n",
      " 'Mysore Road' 'Opp to Sapna Book House, Gandhi Nagar'\n",
      " 'PES college Hanumanth nagar' 'PRESTIGE FORUM REX' 'Palace Cross Road'\n",
      " 'R T Nagar' 'R.T. Nagar' 'RT Nagar' 'Race Course Road' 'Rajajinagar'\n",
      " 'Rajajinagar 2Nd Block' 'Residency Road' 'Residency Road (Shanti Nagar)'\n",
      " 'Richmond Road' 'Richmond Town' 'Rt Nagar' 'SG Palya' 'ST MARKS ROAD'\n",
      " 'Sadashiv Nagar' 'Sampangirama Nagar' 'Santhi Nagar' 'Santhinagar'\n",
      " 'Seshadripuram' 'Shanthi Nagar' 'Shanthinagar' 'Shanti Nagar'\n",
      " 'Shantinagar' 'Sheshadripuram' 'Shivaji Nagar' 'Shivajinagar'\n",
      " 'Shivajinagara' 'St Marks Road' 'St. Marks Road' 'St. Marks road'\n",
      " 'Tavarekere' 'Ulsoor' 'Vasanth Nagar' 'Vijay Nagar' 'Vijayanagar'\n",
      " 'Vittal Mallya Road' 'Whitefield' 'Wilson Garden']\n",
      "\n",
      "\n",
      "Delivery_review_no\n",
      "['10+ ratings' '100+ ratings' '10K+ ratings' '1K+ ratings' '2 ratings'\n",
      " '20+ ratings' '3 ratings' '4 ratings' '5 ratings' '50+ ratings'\n",
      " '500+ ratings' '5K+ ratings' '6 ratings' '7 ratings' '8 ratings'\n",
      " '9 ratings' 'Too Few Ratings' 'nan']\n",
      "\n",
      "\n",
      "URL\n",
      "['https://www.swiggy.com/restaurants/dilwale-restaurant-shivajinagar-no-55-cockburn-road-central-bangalore-bangalore-318476']\n",
      "\n",
      "\n"
     ]
    }
   ],
   "source": [
    "for i in df.columns:\n",
    "    print(i,df[i].astype(str).sort_values().unique(),\"\\n\",sep=\"\\n\")"
   ]
  },
  {
   "cell_type": "code",
   "execution_count": 7,
   "id": "6ae30c9a",
   "metadata": {},
   "outputs": [],
   "source": [
    "n='Arabian, Indian'"
   ]
  },
  {
   "cell_type": "code",
   "execution_count": 8,
   "id": "ceb05368",
   "metadata": {},
   "outputs": [
    {
     "name": "stdout",
     "output_type": "stream",
     "text": [
      "['Arabian', ' Indian']\n"
     ]
    }
   ],
   "source": [
    "p=n.split(\",\")\n",
    "\n",
    "print(p)"
   ]
  },
  {
   "cell_type": "code",
   "execution_count": 9,
   "id": "10548ee7",
   "metadata": {},
   "outputs": [
    {
     "name": "stdout",
     "output_type": "stream",
     "text": [
      " Indian\n"
     ]
    }
   ],
   "source": [
    "if len(p)>1:\n",
    "    print(p[1])\n",
    "else:\n",
    "    print(p[0])"
   ]
  },
  {
   "cell_type": "code",
   "execution_count": 10,
   "id": "d277ec33",
   "metadata": {},
   "outputs": [],
   "source": [
    "def Cus(n):\n",
    "    p=n.split(\",\")\n",
    "    if len(p)>1:\n",
    "        return p[1]\n",
    "    else:\n",
    "        return p[0]"
   ]
  },
  {
   "cell_type": "code",
   "execution_count": 11,
   "id": "b9a288f8",
   "metadata": {},
   "outputs": [],
   "source": [
    "df[\"Cusines\"]=df[\"Cusines\"].apply(lambda x: Cus(x))"
   ]
  },
  {
   "cell_type": "code",
   "execution_count": 12,
   "id": "5ade73b0",
   "metadata": {},
   "outputs": [
    {
     "data": {
      "text/plain": [
       "94"
      ]
     },
     "execution_count": 12,
     "metadata": {},
     "output_type": "execute_result"
    }
   ],
   "source": [
    "df.Location.nunique()"
   ]
  },
  {
   "cell_type": "code",
   "execution_count": 13,
   "id": "56a6a210",
   "metadata": {},
   "outputs": [],
   "source": [
    "df.Location=df.Location.replace({'Audgodi':'Adugodi','BTM layout':'BTM Layout','Basavangudi':'Basavanagudi',\n",
    "                                'Basaveshwaranagar':'Basaveshwar Nagar','Btm Layout':'BTM Layout','Chamrajpet':'Chamarajpet',\n",
    "                                'Church street':'Church Street','Jaya Nagar':'Jayanagar','KORAMANGALA':'Koramangala',\n",
    "                                'Lavelle road':'Lavelle Road','M G Road':'Magrath Road','MAGARATH ROAD':'Magrath Road',\n",
    "                                'MG Road':'Magrath Road','Malleshwaram':'Malleswaram','Mg Road':'Magrath Road',\n",
    "                                'R T Nagar':'R.T. Nagar','RT Nagar':'R.T. Nagar','Rt Nagar':'R.T. Nagar',\n",
    "                                'Santhinagar':'Santhi Nagar','Shanthi Nagar':'Shanti Nagar','Shanthinagar':'Shanti Nagar',\n",
    "                                'Shantinagar':'Shanti Nagar','Seshadripuram':'Sheshadripuram','Shivajinagar':'Shivaji Nagar',\n",
    "                                'Shivajinagara':'Shivaji Nagar','ST MARKS ROAD':'St. Marks Road','St Marks Road':'St. Marks Road',\n",
    "                                'St. Marks road':'St. Marks Road','Vijayanagar':'Vijay Nagar'})"
   ]
  },
  {
   "cell_type": "code",
   "execution_count": 14,
   "id": "5a5c2241",
   "metadata": {},
   "outputs": [
    {
     "data": {
      "text/plain": [
       "65"
      ]
     },
     "execution_count": 14,
     "metadata": {},
     "output_type": "execute_result"
    }
   ],
   "source": [
    "df.Location.nunique()"
   ]
  },
  {
   "cell_type": "code",
   "execution_count": 15,
   "id": "f2263fd8",
   "metadata": {},
   "outputs": [
    {
     "data": {
      "text/plain": [
       "100+ ratings       221\n",
       "1K+ ratings        195\n",
       "20+ ratings        148\n",
       "Too Few Ratings    136\n",
       "50+ ratings        112\n",
       "500+ ratings        96\n",
       "10K+ ratings        90\n",
       "10+ ratings         54\n",
       "5K+ ratings         54\n",
       "2 ratings            8\n",
       "7 ratings            6\n",
       "5 ratings            5\n",
       "3 ratings            4\n",
       "8 ratings            3\n",
       "6 ratings            3\n",
       "4 ratings            2\n",
       "9 ratings            1\n",
       "Name: Delivery_review_no, dtype: int64"
      ]
     },
     "execution_count": 15,
     "metadata": {},
     "output_type": "execute_result"
    }
   ],
   "source": [
    "df.Delivery_review_no.value_counts()"
   ]
  },
  {
   "cell_type": "code",
   "execution_count": 16,
   "id": "cff1cee8",
   "metadata": {},
   "outputs": [
    {
     "data": {
      "text/plain": [
       "'100+ ratings'"
      ]
     },
     "execution_count": 16,
     "metadata": {},
     "output_type": "execute_result"
    }
   ],
   "source": [
    "df.Delivery_review_no.mode()[0]"
   ]
  },
  {
   "cell_type": "code",
   "execution_count": 17,
   "id": "2802a8bc",
   "metadata": {},
   "outputs": [],
   "source": [
    "l=\"10K+ ratings\""
   ]
  },
  {
   "cell_type": "code",
   "execution_count": 18,
   "id": "2f12e75d",
   "metadata": {},
   "outputs": [],
   "source": [
    "m=l.split()[0]"
   ]
  },
  {
   "cell_type": "code",
   "execution_count": 19,
   "id": "7d900aa6",
   "metadata": {},
   "outputs": [
    {
     "data": {
      "text/plain": [
       "'10K+'"
      ]
     },
     "execution_count": 19,
     "metadata": {},
     "output_type": "execute_result"
    }
   ],
   "source": [
    "m"
   ]
  },
  {
   "cell_type": "code",
   "execution_count": 20,
   "id": "60161143",
   "metadata": {},
   "outputs": [],
   "source": [
    "import re"
   ]
  },
  {
   "cell_type": "code",
   "execution_count": 21,
   "id": "030aa0be",
   "metadata": {},
   "outputs": [],
   "source": [
    "def Review_no(l):\n",
    "    m=l.split()[0]\n",
    "    if m[-1]==\"+\" and m[-2]==\"K\":\n",
    "        return (int(re.findall(r\"\\d+\",m)[0])*1000)\n",
    "    elif m[-1]==\"+\":\n",
    "        return (int(re.findall(r\"\\d+\",m)[0]))\n",
    "    elif (m[0]).isdigit()==True:\n",
    "        return m\n",
    "    else:\n",
    "        return np.nan"
   ]
  },
  {
   "cell_type": "code",
   "execution_count": 22,
   "id": "36eec646",
   "metadata": {},
   "outputs": [
    {
     "data": {
      "text/plain": [
       "10000"
      ]
     },
     "execution_count": 22,
     "metadata": {},
     "output_type": "execute_result"
    }
   ],
   "source": [
    "Review_no(l)"
   ]
  },
  {
   "cell_type": "code",
   "execution_count": 23,
   "id": "1468a711",
   "metadata": {},
   "outputs": [],
   "source": [
    "df[\"Delivery_review_no\"] = df[\"Delivery_review_no\"].astype(str).apply(lambda x:Review_no(x))"
   ]
  },
  {
   "cell_type": "code",
   "execution_count": 24,
   "id": "04a91a13",
   "metadata": {},
   "outputs": [
    {
     "data": {
      "text/plain": [
       "100      221\n",
       "1000     195\n",
       "20       148\n",
       "50       112\n",
       "500       96\n",
       "10000     90\n",
       "5000      54\n",
       "10        54\n",
       "2          8\n",
       "7          6\n",
       "5          5\n",
       "3          4\n",
       "8          3\n",
       "6          3\n",
       "4          2\n",
       "9          1\n",
       "Name: Delivery_review_no, dtype: int64"
      ]
     },
     "execution_count": 24,
     "metadata": {},
     "output_type": "execute_result"
    }
   ],
   "source": [
    "df.Delivery_review_no.value_counts()"
   ]
  },
  {
   "cell_type": "code",
   "execution_count": 25,
   "id": "959c1f91",
   "metadata": {},
   "outputs": [],
   "source": [
    "df[\"Delivery_review_no\"]=df[\"Delivery_review_no\"].fillna(np.random.randint(2,10))"
   ]
  },
  {
   "cell_type": "code",
   "execution_count": 26,
   "id": "b6c7cca2",
   "metadata": {},
   "outputs": [
    {
     "data": {
      "text/plain": [
       "array(['₹450 for two', '₹400 for two', '₹200 for two', '₹150 for two',\n",
       "       '₹300 for two', '₹299 for two', '₹1000 for two', '₹250 for two',\n",
       "       '₹600 for two', '₹350 for two', '₹500 for two', '₹100 for two',\n",
       "       '₹499 for two', '₹230 for two',\n",
       "       'Opening₹400 for twoOpens today in 19 mins', '₹220 for two',\n",
       "       '₹251 for two', '₹193 for two', '₹130 for two', '₹800 for two',\n",
       "       'Currently₹150 for twoUh-oh! Outlet is not accepting orders at the moment. They should be back by 1:48 PM',\n",
       "       '₹270 for two', '₹399 for two', '₹650 for two', '₹532 for two',\n",
       "       '₹99 for two', '₹160 for two', '₹149 for two', '₹170 for two',\n",
       "       '₹140 for two', '₹120 for two', '₹700 for two', '₹1200 for two',\n",
       "       '₹80 for two', '₹750 for two', '₹5 for two', '₹249 for two',\n",
       "       '₹240 for two', '₹199 for two', '₹40 for two', '₹180 for two',\n",
       "       '₹190 for two', '₹1500 for two', '₹50 for two', '₹10 for two',\n",
       "       '₹175 for two', 'Opening₹399 for twoOpens today in 15 mins',\n",
       "       'Opening₹399 for twoOpens today in 14 mins', '₹900 for two',\n",
       "       'Currently₹100 for twoUh-oh! Outlet is not accepting orders at the moment. They should be back by 11:00 AM tomorrow',\n",
       "       '₹850 for two', '₹320 for two', '₹1800 for two', '₹1300 for two',\n",
       "       '₹1100 for two',\n",
       "       'Currently₹200 for twoUh-oh! Outlet is not accepting orders at the moment. They should be back by 4:00 PM',\n",
       "       '₹30 for two', '₹2000 for two', '₹380 for two', '₹75 for two',\n",
       "       'Opening₹600 for twoOpens today in 13 mins', '₹32 for two',\n",
       "       '₹310 for two', '₹23 for two', '₹169 for two', '₹70 for two',\n",
       "       '₹349 for two', '₹1600 for two', '₹1099 for two', '₹69 for two',\n",
       "       'Currently₹300 for twoUh-oh! Outlet is not accepting orders at the moment. They should be back by 10:00 AM tomorrow',\n",
       "       '₹280 for two', '₹430 for two', '₹2 for two', '₹820 for two',\n",
       "       '₹198 for two',\n",
       "       'Currently₹760 for twoUh-oh! Outlet is not accepting orders at the moment. They should be back by 11:30 AM tomorrow',\n",
       "       '₹599 for two', '₹398 for two',\n",
       "       'Currently₹100 for twoUh-oh! Outlet is not accepting orders at the moment. They should be back by 7:00 AM tomorrow',\n",
       "       '₹550 for two',\n",
       "       'Currently₹500 for twoUh-oh! Outlet is not accepting orders at the moment. They should be back by 11:55 AM tomorrow',\n",
       "       'Currently₹250 for twoUh-oh! Outlet is not accepting orders at the moment. They should be back by 11:30 AM tomorrow',\n",
       "       '₹197 for two'], dtype=object)"
      ]
     },
     "execution_count": 26,
     "metadata": {},
     "output_type": "execute_result"
    }
   ],
   "source": [
    "df[\"Price_for_two\"].unique()"
   ]
  },
  {
   "cell_type": "code",
   "execution_count": 27,
   "id": "b750b7d1",
   "metadata": {},
   "outputs": [],
   "source": [
    "t='Opening₹399 for twoOpens today in 14 mins'"
   ]
  },
  {
   "cell_type": "code",
   "execution_count": 28,
   "id": "7528e5cf",
   "metadata": {},
   "outputs": [
    {
     "data": {
      "text/plain": [
       "'399'"
      ]
     },
     "execution_count": 28,
     "metadata": {},
     "output_type": "execute_result"
    }
   ],
   "source": [
    "re.findall(r\"\\d+\",t)[0]"
   ]
  },
  {
   "cell_type": "code",
   "execution_count": 29,
   "id": "77f847d6",
   "metadata": {},
   "outputs": [],
   "source": [
    "d=\"23\""
   ]
  },
  {
   "cell_type": "code",
   "execution_count": 30,
   "id": "00387acb",
   "metadata": {},
   "outputs": [],
   "source": [
    "def amount(f):\n",
    "    d=re.findall(r\"\\d+\",f)[0]\n",
    "    if len(d)==1:\n",
    "        return (int(d)*100)\n",
    "    elif len(d)==2:\n",
    "        return (int(d)*10)\n",
    "    else:\n",
    "        return d"
   ]
  },
  {
   "cell_type": "code",
   "execution_count": 31,
   "id": "a2302078",
   "metadata": {},
   "outputs": [
    {
     "data": {
      "text/plain": [
       "230"
      ]
     },
     "execution_count": 31,
     "metadata": {},
     "output_type": "execute_result"
    }
   ],
   "source": [
    "amount(d)"
   ]
  },
  {
   "cell_type": "code",
   "execution_count": 32,
   "id": "3ffbd4e7",
   "metadata": {},
   "outputs": [],
   "source": [
    "df[\"Price_for_two\"]=df[\"Price_for_two\"].apply(lambda x: amount(x))"
   ]
  },
  {
   "cell_type": "code",
   "execution_count": 33,
   "id": "8e2852fc",
   "metadata": {},
   "outputs": [
    {
     "data": {
      "text/plain": [
       "--     136\n",
       "NEW    134\n",
       "4.3    126\n",
       "4.1    118\n",
       "4.2    104\n",
       "4.0     98\n",
       "4.4     95\n",
       "4.5     75\n",
       "3.9     72\n",
       "3.8     67\n",
       "3.7     44\n",
       "4.6     34\n",
       "3.6     32\n",
       "3.5     21\n",
       "3.4     20\n",
       "4.7     19\n",
       "3.2     14\n",
       "4.8     11\n",
       "3.1      8\n",
       "5.0      7\n",
       "3.0      7\n",
       "2.9      6\n",
       "3.3      6\n",
       "4.9      6\n",
       "2.8      3\n",
       "2.4      2\n",
       "2.3      2\n",
       "2.5      2\n",
       "2.6      1\n",
       "1.3      1\n",
       "2.1      1\n",
       "Name: Ratings, dtype: int64"
      ]
     },
     "execution_count": 33,
     "metadata": {},
     "output_type": "execute_result"
    }
   ],
   "source": [
    "df.Ratings.value_counts()"
   ]
  },
  {
   "cell_type": "code",
   "execution_count": 34,
   "id": "0e344445",
   "metadata": {},
   "outputs": [],
   "source": [
    "df[\"Ratings\"]=df[\"Ratings\"].replace(['--','NEW'],np.nan)"
   ]
  },
  {
   "cell_type": "code",
   "execution_count": 35,
   "id": "3e9c1446",
   "metadata": {},
   "outputs": [
    {
     "data": {
      "text/plain": [
       "Rest_Name               0\n",
       "Ratings               270\n",
       "Price_for_two           0\n",
       "Cusines                 0\n",
       "Location                0\n",
       "Delivery_review_no      0\n",
       "URL                     0\n",
       "dtype: int64"
      ]
     },
     "execution_count": 35,
     "metadata": {},
     "output_type": "execute_result"
    }
   ],
   "source": [
    "df.isnull().sum()"
   ]
  },
  {
   "cell_type": "code",
   "execution_count": 36,
   "id": "6f02ea21",
   "metadata": {},
   "outputs": [],
   "source": [
    "df[\"Ratings\"]=df[\"Ratings\"].fillna(round(np.random.uniform(1.0,5.0),1))\n",
    "\n",
    "# df[\"Ratings\"]=df[\"Ratings\"].fillna(df[\"Ratings\"].median())"
   ]
  },
  {
   "cell_type": "code",
   "execution_count": 37,
   "id": "953d0474",
   "metadata": {},
   "outputs": [
    {
     "data": {
      "text/plain": [
       "Rest_Name             object\n",
       "Ratings               object\n",
       "Price_for_two         object\n",
       "Cusines               object\n",
       "Location              object\n",
       "Delivery_review_no    object\n",
       "URL                   object\n",
       "dtype: object"
      ]
     },
     "execution_count": 37,
     "metadata": {},
     "output_type": "execute_result"
    }
   ],
   "source": [
    "df.dtypes"
   ]
  },
  {
   "cell_type": "code",
   "execution_count": 38,
   "id": "cc52467a",
   "metadata": {},
   "outputs": [],
   "source": [
    "for i in df.columns:\n",
    "    df[i]=pd.to_numeric(df[i],errors=\"ignore\")"
   ]
  },
  {
   "cell_type": "code",
   "execution_count": 39,
   "id": "26641789",
   "metadata": {},
   "outputs": [
    {
     "data": {
      "text/plain": [
       "array([10000,     5,  1000,   100,    50,   500,    20,  5000,    10,\n",
       "           2,     4,     7,     3,     8,     6,     9], dtype=int64)"
      ]
     },
     "execution_count": 39,
     "metadata": {},
     "output_type": "execute_result"
    }
   ],
   "source": [
    "df.Delivery_review_no.unique()"
   ]
  },
  {
   "cell_type": "code",
   "execution_count": 40,
   "id": "9cc17023",
   "metadata": {},
   "outputs": [],
   "source": [
    "df.Delivery_review_no=df.Delivery_review_no.fillna(df.Delivery_review_no.median())"
   ]
  },
  {
   "cell_type": "code",
   "execution_count": 41,
   "id": "c52dbbcf",
   "metadata": {},
   "outputs": [
    {
     "data": {
      "text/plain": [
       "Rest_Name             0\n",
       "Ratings               0\n",
       "Price_for_two         0\n",
       "Cusines               0\n",
       "Location              0\n",
       "Delivery_review_no    0\n",
       "URL                   0\n",
       "dtype: int64"
      ]
     },
     "execution_count": 41,
     "metadata": {},
     "output_type": "execute_result"
    }
   ],
   "source": [
    "df.isnull().sum()"
   ]
  },
  {
   "cell_type": "code",
   "execution_count": 42,
   "id": "c2b34a08",
   "metadata": {},
   "outputs": [],
   "source": [
    "df[\"Price_for_one\"]= df[\"Price_for_two\"]"
   ]
  },
  {
   "cell_type": "code",
   "execution_count": 43,
   "id": "033b4022",
   "metadata": {},
   "outputs": [
    {
     "data": {
      "text/html": [
       "<div>\n",
       "<style scoped>\n",
       "    .dataframe tbody tr th:only-of-type {\n",
       "        vertical-align: middle;\n",
       "    }\n",
       "\n",
       "    .dataframe tbody tr th {\n",
       "        vertical-align: top;\n",
       "    }\n",
       "\n",
       "    .dataframe thead th {\n",
       "        text-align: right;\n",
       "    }\n",
       "</style>\n",
       "<table border=\"1\" class=\"dataframe\">\n",
       "  <thead>\n",
       "    <tr style=\"text-align: right;\">\n",
       "      <th></th>\n",
       "      <th>Rest_Name</th>\n",
       "      <th>Ratings</th>\n",
       "      <th>Price_for_two</th>\n",
       "      <th>Cusines</th>\n",
       "      <th>Location</th>\n",
       "      <th>Delivery_review_no</th>\n",
       "      <th>URL</th>\n",
       "      <th>Price_for_one</th>\n",
       "    </tr>\n",
       "  </thead>\n",
       "  <tbody>\n",
       "    <tr>\n",
       "      <th>0</th>\n",
       "      <td>Hotel Empire</td>\n",
       "      <td>4.3</td>\n",
       "      <td>450</td>\n",
       "      <td>Kebabs</td>\n",
       "      <td>Brigade Road</td>\n",
       "      <td>10000</td>\n",
       "      <td>https://www.swiggy.com/restaurants/dilwale-res...</td>\n",
       "      <td>450</td>\n",
       "    </tr>\n",
       "    <tr>\n",
       "      <th>1</th>\n",
       "      <td>Protein Station</td>\n",
       "      <td>4.6</td>\n",
       "      <td>400</td>\n",
       "      <td>Salads</td>\n",
       "      <td>Basavanagudi</td>\n",
       "      <td>5</td>\n",
       "      <td>https://www.swiggy.com/restaurants/dilwale-res...</td>\n",
       "      <td>400</td>\n",
       "    </tr>\n",
       "    <tr>\n",
       "      <th>2</th>\n",
       "      <td>Halli Donne Biryani</td>\n",
       "      <td>3.9</td>\n",
       "      <td>200</td>\n",
       "      <td>South Indian</td>\n",
       "      <td>Koramangala</td>\n",
       "      <td>1000</td>\n",
       "      <td>https://www.swiggy.com/restaurants/dilwale-res...</td>\n",
       "      <td>200</td>\n",
       "    </tr>\n",
       "    <tr>\n",
       "      <th>3</th>\n",
       "      <td>Edesia by Freshmenu</td>\n",
       "      <td>3.9</td>\n",
       "      <td>150</td>\n",
       "      <td>Bakery</td>\n",
       "      <td>Richmond Town</td>\n",
       "      <td>100</td>\n",
       "      <td>https://www.swiggy.com/restaurants/dilwale-res...</td>\n",
       "      <td>150</td>\n",
       "    </tr>\n",
       "    <tr>\n",
       "      <th>4</th>\n",
       "      <td>Mangalore Sea Palate</td>\n",
       "      <td>4.1</td>\n",
       "      <td>300</td>\n",
       "      <td>South Indian</td>\n",
       "      <td>Jayanagar</td>\n",
       "      <td>100</td>\n",
       "      <td>https://www.swiggy.com/restaurants/dilwale-res...</td>\n",
       "      <td>300</td>\n",
       "    </tr>\n",
       "    <tr>\n",
       "      <th>...</th>\n",
       "      <td>...</td>\n",
       "      <td>...</td>\n",
       "      <td>...</td>\n",
       "      <td>...</td>\n",
       "      <td>...</td>\n",
       "      <td>...</td>\n",
       "      <td>...</td>\n",
       "      <td>...</td>\n",
       "    </tr>\n",
       "    <tr>\n",
       "      <th>1267</th>\n",
       "      <td>Dream Cakes</td>\n",
       "      <td>4.6</td>\n",
       "      <td>200</td>\n",
       "      <td>Bakery</td>\n",
       "      <td>Jayanagar</td>\n",
       "      <td>5</td>\n",
       "      <td>https://www.swiggy.com/restaurants/dilwale-res...</td>\n",
       "      <td>200</td>\n",
       "    </tr>\n",
       "    <tr>\n",
       "      <th>1268</th>\n",
       "      <td>Dev Foods Jigarthanda</td>\n",
       "      <td>4.3</td>\n",
       "      <td>100</td>\n",
       "      <td>Chinese</td>\n",
       "      <td>Malleswaram</td>\n",
       "      <td>100</td>\n",
       "      <td>https://www.swiggy.com/restaurants/dilwale-res...</td>\n",
       "      <td>100</td>\n",
       "    </tr>\n",
       "    <tr>\n",
       "      <th>1269</th>\n",
       "      <td>SLN Tiffin Room</td>\n",
       "      <td>4.6</td>\n",
       "      <td>100</td>\n",
       "      <td>Biryani</td>\n",
       "      <td>Vijay Nagar</td>\n",
       "      <td>5</td>\n",
       "      <td>https://www.swiggy.com/restaurants/dilwale-res...</td>\n",
       "      <td>100</td>\n",
       "    </tr>\n",
       "    <tr>\n",
       "      <th>1270</th>\n",
       "      <td>Tea Day</td>\n",
       "      <td>4.6</td>\n",
       "      <td>200</td>\n",
       "      <td>Snacks</td>\n",
       "      <td>Vijay Nagar</td>\n",
       "      <td>5</td>\n",
       "      <td>https://www.swiggy.com/restaurants/dilwale-res...</td>\n",
       "      <td>200</td>\n",
       "    </tr>\n",
       "    <tr>\n",
       "      <th>1271</th>\n",
       "      <td>Dilwale Restaurant</td>\n",
       "      <td>3.7</td>\n",
       "      <td>300</td>\n",
       "      <td>Beverages</td>\n",
       "      <td>Central Bangalore</td>\n",
       "      <td>50</td>\n",
       "      <td>https://www.swiggy.com/restaurants/dilwale-res...</td>\n",
       "      <td>300</td>\n",
       "    </tr>\n",
       "  </tbody>\n",
       "</table>\n",
       "<p>1272 rows × 8 columns</p>\n",
       "</div>"
      ],
      "text/plain": [
       "                  Rest_Name  Ratings  Price_for_two        Cusines  \\\n",
       "0              Hotel Empire      4.3            450         Kebabs   \n",
       "1           Protein Station      4.6            400         Salads   \n",
       "2       Halli Donne Biryani      3.9            200   South Indian   \n",
       "3       Edesia by Freshmenu      3.9            150         Bakery   \n",
       "4      Mangalore Sea Palate      4.1            300   South Indian   \n",
       "...                     ...      ...            ...            ...   \n",
       "1267            Dream Cakes      4.6            200         Bakery   \n",
       "1268  Dev Foods Jigarthanda      4.3            100        Chinese   \n",
       "1269        SLN Tiffin Room      4.6            100        Biryani   \n",
       "1270                Tea Day      4.6            200         Snacks   \n",
       "1271     Dilwale Restaurant      3.7            300      Beverages   \n",
       "\n",
       "               Location  Delivery_review_no  \\\n",
       "0          Brigade Road               10000   \n",
       "1          Basavanagudi                   5   \n",
       "2           Koramangala                1000   \n",
       "3         Richmond Town                 100   \n",
       "4             Jayanagar                 100   \n",
       "...                 ...                 ...   \n",
       "1267          Jayanagar                   5   \n",
       "1268        Malleswaram                 100   \n",
       "1269        Vijay Nagar                   5   \n",
       "1270        Vijay Nagar                   5   \n",
       "1271  Central Bangalore                  50   \n",
       "\n",
       "                                                    URL  Price_for_one  \n",
       "0     https://www.swiggy.com/restaurants/dilwale-res...            450  \n",
       "1     https://www.swiggy.com/restaurants/dilwale-res...            400  \n",
       "2     https://www.swiggy.com/restaurants/dilwale-res...            200  \n",
       "3     https://www.swiggy.com/restaurants/dilwale-res...            150  \n",
       "4     https://www.swiggy.com/restaurants/dilwale-res...            300  \n",
       "...                                                 ...            ...  \n",
       "1267  https://www.swiggy.com/restaurants/dilwale-res...            200  \n",
       "1268  https://www.swiggy.com/restaurants/dilwale-res...            100  \n",
       "1269  https://www.swiggy.com/restaurants/dilwale-res...            100  \n",
       "1270  https://www.swiggy.com/restaurants/dilwale-res...            200  \n",
       "1271  https://www.swiggy.com/restaurants/dilwale-res...            300  \n",
       "\n",
       "[1272 rows x 8 columns]"
      ]
     },
     "execution_count": 43,
     "metadata": {},
     "output_type": "execute_result"
    }
   ],
   "source": [
    "df"
   ]
  },
  {
   "cell_type": "code",
   "execution_count": 44,
   "id": "e44df36f",
   "metadata": {},
   "outputs": [],
   "source": [
    "df.rename(columns={\"Unnamed: 0\":\"Restaurant_id\",\"Rest_Name\":\"Restaurant_Name\",\"URL\":\"Restaurant_link\"},inplace=True)"
   ]
  },
  {
   "cell_type": "code",
   "execution_count": 45,
   "id": "56961e75",
   "metadata": {},
   "outputs": [],
   "source": [
    "df.drop(\"Price_for_two\",axis=1,inplace=True)"
   ]
  },
  {
   "cell_type": "code",
   "execution_count": 46,
   "id": "b6b05d99",
   "metadata": {},
   "outputs": [
    {
     "data": {
      "text/html": [
       "<div>\n",
       "<style scoped>\n",
       "    .dataframe tbody tr th:only-of-type {\n",
       "        vertical-align: middle;\n",
       "    }\n",
       "\n",
       "    .dataframe tbody tr th {\n",
       "        vertical-align: top;\n",
       "    }\n",
       "\n",
       "    .dataframe thead th {\n",
       "        text-align: right;\n",
       "    }\n",
       "</style>\n",
       "<table border=\"1\" class=\"dataframe\">\n",
       "  <thead>\n",
       "    <tr style=\"text-align: right;\">\n",
       "      <th></th>\n",
       "      <th>Restaurant_Name</th>\n",
       "      <th>Ratings</th>\n",
       "      <th>Cusines</th>\n",
       "      <th>Location</th>\n",
       "      <th>Delivery_review_no</th>\n",
       "      <th>Restaurant_link</th>\n",
       "      <th>Price_for_one</th>\n",
       "    </tr>\n",
       "  </thead>\n",
       "  <tbody>\n",
       "    <tr>\n",
       "      <th>0</th>\n",
       "      <td>Hotel Empire</td>\n",
       "      <td>4.3</td>\n",
       "      <td>Kebabs</td>\n",
       "      <td>Brigade Road</td>\n",
       "      <td>10000</td>\n",
       "      <td>https://www.swiggy.com/restaurants/dilwale-res...</td>\n",
       "      <td>450</td>\n",
       "    </tr>\n",
       "    <tr>\n",
       "      <th>1</th>\n",
       "      <td>Protein Station</td>\n",
       "      <td>4.6</td>\n",
       "      <td>Salads</td>\n",
       "      <td>Basavanagudi</td>\n",
       "      <td>5</td>\n",
       "      <td>https://www.swiggy.com/restaurants/dilwale-res...</td>\n",
       "      <td>400</td>\n",
       "    </tr>\n",
       "    <tr>\n",
       "      <th>2</th>\n",
       "      <td>Halli Donne Biryani</td>\n",
       "      <td>3.9</td>\n",
       "      <td>South Indian</td>\n",
       "      <td>Koramangala</td>\n",
       "      <td>1000</td>\n",
       "      <td>https://www.swiggy.com/restaurants/dilwale-res...</td>\n",
       "      <td>200</td>\n",
       "    </tr>\n",
       "    <tr>\n",
       "      <th>3</th>\n",
       "      <td>Edesia by Freshmenu</td>\n",
       "      <td>3.9</td>\n",
       "      <td>Bakery</td>\n",
       "      <td>Richmond Town</td>\n",
       "      <td>100</td>\n",
       "      <td>https://www.swiggy.com/restaurants/dilwale-res...</td>\n",
       "      <td>150</td>\n",
       "    </tr>\n",
       "    <tr>\n",
       "      <th>4</th>\n",
       "      <td>Mangalore Sea Palate</td>\n",
       "      <td>4.1</td>\n",
       "      <td>South Indian</td>\n",
       "      <td>Jayanagar</td>\n",
       "      <td>100</td>\n",
       "      <td>https://www.swiggy.com/restaurants/dilwale-res...</td>\n",
       "      <td>300</td>\n",
       "    </tr>\n",
       "    <tr>\n",
       "      <th>...</th>\n",
       "      <td>...</td>\n",
       "      <td>...</td>\n",
       "      <td>...</td>\n",
       "      <td>...</td>\n",
       "      <td>...</td>\n",
       "      <td>...</td>\n",
       "      <td>...</td>\n",
       "    </tr>\n",
       "    <tr>\n",
       "      <th>1267</th>\n",
       "      <td>Dream Cakes</td>\n",
       "      <td>4.6</td>\n",
       "      <td>Bakery</td>\n",
       "      <td>Jayanagar</td>\n",
       "      <td>5</td>\n",
       "      <td>https://www.swiggy.com/restaurants/dilwale-res...</td>\n",
       "      <td>200</td>\n",
       "    </tr>\n",
       "    <tr>\n",
       "      <th>1268</th>\n",
       "      <td>Dev Foods Jigarthanda</td>\n",
       "      <td>4.3</td>\n",
       "      <td>Chinese</td>\n",
       "      <td>Malleswaram</td>\n",
       "      <td>100</td>\n",
       "      <td>https://www.swiggy.com/restaurants/dilwale-res...</td>\n",
       "      <td>100</td>\n",
       "    </tr>\n",
       "    <tr>\n",
       "      <th>1269</th>\n",
       "      <td>SLN Tiffin Room</td>\n",
       "      <td>4.6</td>\n",
       "      <td>Biryani</td>\n",
       "      <td>Vijay Nagar</td>\n",
       "      <td>5</td>\n",
       "      <td>https://www.swiggy.com/restaurants/dilwale-res...</td>\n",
       "      <td>100</td>\n",
       "    </tr>\n",
       "    <tr>\n",
       "      <th>1270</th>\n",
       "      <td>Tea Day</td>\n",
       "      <td>4.6</td>\n",
       "      <td>Snacks</td>\n",
       "      <td>Vijay Nagar</td>\n",
       "      <td>5</td>\n",
       "      <td>https://www.swiggy.com/restaurants/dilwale-res...</td>\n",
       "      <td>200</td>\n",
       "    </tr>\n",
       "    <tr>\n",
       "      <th>1271</th>\n",
       "      <td>Dilwale Restaurant</td>\n",
       "      <td>3.7</td>\n",
       "      <td>Beverages</td>\n",
       "      <td>Central Bangalore</td>\n",
       "      <td>50</td>\n",
       "      <td>https://www.swiggy.com/restaurants/dilwale-res...</td>\n",
       "      <td>300</td>\n",
       "    </tr>\n",
       "  </tbody>\n",
       "</table>\n",
       "<p>1272 rows × 7 columns</p>\n",
       "</div>"
      ],
      "text/plain": [
       "            Restaurant_Name  Ratings        Cusines           Location  \\\n",
       "0              Hotel Empire      4.3         Kebabs       Brigade Road   \n",
       "1           Protein Station      4.6         Salads       Basavanagudi   \n",
       "2       Halli Donne Biryani      3.9   South Indian        Koramangala   \n",
       "3       Edesia by Freshmenu      3.9         Bakery      Richmond Town   \n",
       "4      Mangalore Sea Palate      4.1   South Indian          Jayanagar   \n",
       "...                     ...      ...            ...                ...   \n",
       "1267            Dream Cakes      4.6         Bakery          Jayanagar   \n",
       "1268  Dev Foods Jigarthanda      4.3        Chinese        Malleswaram   \n",
       "1269        SLN Tiffin Room      4.6        Biryani        Vijay Nagar   \n",
       "1270                Tea Day      4.6         Snacks        Vijay Nagar   \n",
       "1271     Dilwale Restaurant      3.7      Beverages  Central Bangalore   \n",
       "\n",
       "      Delivery_review_no                                    Restaurant_link  \\\n",
       "0                  10000  https://www.swiggy.com/restaurants/dilwale-res...   \n",
       "1                      5  https://www.swiggy.com/restaurants/dilwale-res...   \n",
       "2                   1000  https://www.swiggy.com/restaurants/dilwale-res...   \n",
       "3                    100  https://www.swiggy.com/restaurants/dilwale-res...   \n",
       "4                    100  https://www.swiggy.com/restaurants/dilwale-res...   \n",
       "...                  ...                                                ...   \n",
       "1267                   5  https://www.swiggy.com/restaurants/dilwale-res...   \n",
       "1268                 100  https://www.swiggy.com/restaurants/dilwale-res...   \n",
       "1269                   5  https://www.swiggy.com/restaurants/dilwale-res...   \n",
       "1270                   5  https://www.swiggy.com/restaurants/dilwale-res...   \n",
       "1271                  50  https://www.swiggy.com/restaurants/dilwale-res...   \n",
       "\n",
       "      Price_for_one  \n",
       "0               450  \n",
       "1               400  \n",
       "2               200  \n",
       "3               150  \n",
       "4               300  \n",
       "...             ...  \n",
       "1267            200  \n",
       "1268            100  \n",
       "1269            100  \n",
       "1270            200  \n",
       "1271            300  \n",
       "\n",
       "[1272 rows x 7 columns]"
      ]
     },
     "execution_count": 46,
     "metadata": {},
     "output_type": "execute_result"
    }
   ],
   "source": [
    "df"
   ]
  },
  {
   "cell_type": "code",
   "execution_count": 47,
   "id": "f392befa",
   "metadata": {},
   "outputs": [],
   "source": [
    "df[\"Cusines\"]=df[\"Cusines\"].apply(lambda x: x.strip())\n",
    "df[\"Location\"]=df[\"Location\"].apply(lambda x: x.strip())"
   ]
  },
  {
   "cell_type": "code",
   "execution_count": 48,
   "id": "b10d0fb3",
   "metadata": {},
   "outputs": [],
   "source": [
    "df.to_csv('Swiggy Model.csv')"
   ]
  },
  {
   "cell_type": "code",
   "execution_count": 49,
   "id": "0145b854",
   "metadata": {},
   "outputs": [],
   "source": [
    "df1=df.copy()"
   ]
  },
  {
   "cell_type": "code",
   "execution_count": 50,
   "id": "4feb0ad2",
   "metadata": {},
   "outputs": [],
   "source": [
    "df1.drop([\"Restaurant_Name\",\"Restaurant_link\"],axis=1,inplace=True)"
   ]
  },
  {
   "cell_type": "code",
   "execution_count": 51,
   "id": "b132cba5",
   "metadata": {},
   "outputs": [
    {
     "data": {
      "text/plain": [
       "<AxesSubplot:>"
      ]
     },
     "execution_count": 51,
     "metadata": {},
     "output_type": "execute_result"
    },
    {
     "data": {
      "image/png": "[encoded data removed]",
      "text/plain": [
       "<Figure size 640x480 with 2 Axes>"
      ]
     },
     "metadata": {},
     "output_type": "display_data"
    }
   ],
   "source": [
    "sns.heatmap(df.corr(),annot=True)"
   ]
  },
  {
   "cell_type": "code",
   "execution_count": 52,
   "id": "b6f2d39d",
   "metadata": {},
   "outputs": [],
   "source": [
    "df_lr=df1.copy()"
   ]
  },
  {
   "cell_type": "code",
   "execution_count": 53,
   "id": "de82d8d8",
   "metadata": {},
   "outputs": [
    {
     "data": {
      "text/html": [
       "<div>\n",
       "<style scoped>\n",
       "    .dataframe tbody tr th:only-of-type {\n",
       "        vertical-align: middle;\n",
       "    }\n",
       "\n",
       "    .dataframe tbody tr th {\n",
       "        vertical-align: top;\n",
       "    }\n",
       "\n",
       "    .dataframe thead th {\n",
       "        text-align: right;\n",
       "    }\n",
       "</style>\n",
       "<table border=\"1\" class=\"dataframe\">\n",
       "  <thead>\n",
       "    <tr style=\"text-align: right;\">\n",
       "      <th></th>\n",
       "      <th>Ratings</th>\n",
       "      <th>Cusines</th>\n",
       "      <th>Location</th>\n",
       "      <th>Delivery_review_no</th>\n",
       "      <th>Price_for_one</th>\n",
       "    </tr>\n",
       "  </thead>\n",
       "  <tbody>\n",
       "    <tr>\n",
       "      <th>0</th>\n",
       "      <td>4.3</td>\n",
       "      <td>Kebabs</td>\n",
       "      <td>Brigade Road</td>\n",
       "      <td>10000</td>\n",
       "      <td>450</td>\n",
       "    </tr>\n",
       "    <tr>\n",
       "      <th>1</th>\n",
       "      <td>4.6</td>\n",
       "      <td>Salads</td>\n",
       "      <td>Basavanagudi</td>\n",
       "      <td>5</td>\n",
       "      <td>400</td>\n",
       "    </tr>\n",
       "    <tr>\n",
       "      <th>2</th>\n",
       "      <td>3.9</td>\n",
       "      <td>South Indian</td>\n",
       "      <td>Koramangala</td>\n",
       "      <td>1000</td>\n",
       "      <td>200</td>\n",
       "    </tr>\n",
       "    <tr>\n",
       "      <th>3</th>\n",
       "      <td>3.9</td>\n",
       "      <td>Bakery</td>\n",
       "      <td>Richmond Town</td>\n",
       "      <td>100</td>\n",
       "      <td>150</td>\n",
       "    </tr>\n",
       "    <tr>\n",
       "      <th>4</th>\n",
       "      <td>4.1</td>\n",
       "      <td>South Indian</td>\n",
       "      <td>Jayanagar</td>\n",
       "      <td>100</td>\n",
       "      <td>300</td>\n",
       "    </tr>\n",
       "    <tr>\n",
       "      <th>...</th>\n",
       "      <td>...</td>\n",
       "      <td>...</td>\n",
       "      <td>...</td>\n",
       "      <td>...</td>\n",
       "      <td>...</td>\n",
       "    </tr>\n",
       "    <tr>\n",
       "      <th>1267</th>\n",
       "      <td>4.6</td>\n",
       "      <td>Bakery</td>\n",
       "      <td>Jayanagar</td>\n",
       "      <td>5</td>\n",
       "      <td>200</td>\n",
       "    </tr>\n",
       "    <tr>\n",
       "      <th>1268</th>\n",
       "      <td>4.3</td>\n",
       "      <td>Chinese</td>\n",
       "      <td>Malleswaram</td>\n",
       "      <td>100</td>\n",
       "      <td>100</td>\n",
       "    </tr>\n",
       "    <tr>\n",
       "      <th>1269</th>\n",
       "      <td>4.6</td>\n",
       "      <td>Biryani</td>\n",
       "      <td>Vijay Nagar</td>\n",
       "      <td>5</td>\n",
       "      <td>100</td>\n",
       "    </tr>\n",
       "    <tr>\n",
       "      <th>1270</th>\n",
       "      <td>4.6</td>\n",
       "      <td>Snacks</td>\n",
       "      <td>Vijay Nagar</td>\n",
       "      <td>5</td>\n",
       "      <td>200</td>\n",
       "    </tr>\n",
       "    <tr>\n",
       "      <th>1271</th>\n",
       "      <td>3.7</td>\n",
       "      <td>Beverages</td>\n",
       "      <td>Central Bangalore</td>\n",
       "      <td>50</td>\n",
       "      <td>300</td>\n",
       "    </tr>\n",
       "  </tbody>\n",
       "</table>\n",
       "<p>1272 rows × 5 columns</p>\n",
       "</div>"
      ],
      "text/plain": [
       "      Ratings       Cusines           Location  Delivery_review_no  \\\n",
       "0         4.3        Kebabs       Brigade Road               10000   \n",
       "1         4.6        Salads       Basavanagudi                   5   \n",
       "2         3.9  South Indian        Koramangala                1000   \n",
       "3         3.9        Bakery      Richmond Town                 100   \n",
       "4         4.1  South Indian          Jayanagar                 100   \n",
       "...       ...           ...                ...                 ...   \n",
       "1267      4.6        Bakery          Jayanagar                   5   \n",
       "1268      4.3       Chinese        Malleswaram                 100   \n",
       "1269      4.6       Biryani        Vijay Nagar                   5   \n",
       "1270      4.6        Snacks        Vijay Nagar                   5   \n",
       "1271      3.7     Beverages  Central Bangalore                  50   \n",
       "\n",
       "      Price_for_one  \n",
       "0               450  \n",
       "1               400  \n",
       "2               200  \n",
       "3               150  \n",
       "4               300  \n",
       "...             ...  \n",
       "1267            200  \n",
       "1268            100  \n",
       "1269            100  \n",
       "1270            200  \n",
       "1271            300  \n",
       "\n",
       "[1272 rows x 5 columns]"
      ]
     },
     "execution_count": 53,
     "metadata": {},
     "output_type": "execute_result"
    }
   ],
   "source": [
    "df_lr"
   ]
  },
  {
   "cell_type": "code",
   "execution_count": 54,
   "id": "74d9fa82",
   "metadata": {},
   "outputs": [
    {
     "data": {
      "text/plain": [
       "Ratings               0\n",
       "Cusines               0\n",
       "Location              0\n",
       "Delivery_review_no    0\n",
       "Price_for_one         0\n",
       "dtype: int64"
      ]
     },
     "execution_count": 54,
     "metadata": {},
     "output_type": "execute_result"
    }
   ],
   "source": [
    "df_lr.isnull().sum()"
   ]
  },
  {
   "cell_type": "code",
   "execution_count": 55,
   "id": "3a2f252b",
   "metadata": {},
   "outputs": [],
   "source": [
    "cat_lr=[\"Cusines\",\"Location\"]\n",
    "num_lr=[\"Ratings\",\"Delivery_review_no\"]"
   ]
  },
  {
   "cell_type": "code",
   "execution_count": 56,
   "id": "a8401646",
   "metadata": {},
   "outputs": [
    {
     "data": {
      "text/plain": [
       "(1272, 5)"
      ]
     },
     "execution_count": 56,
     "metadata": {},
     "output_type": "execute_result"
    }
   ],
   "source": [
    "df_lr.shape"
   ]
  },
  {
   "cell_type": "code",
   "execution_count": 57,
   "id": "39e0bf20",
   "metadata": {},
   "outputs": [
    {
     "data": {
      "image/png": "[encoded data removed]",
      "text/plain": [
       "<Figure size 640x480 with 1 Axes>"
      ]
     },
     "metadata": {},
     "output_type": "display_data"
    },
    {
     "data": {
      "image/png": "[encoded data removed]",
      "text/plain": [
       "<Figure size 640x480 with 1 Axes>"
      ]
     },
     "metadata": {},
     "output_type": "display_data"
    }
   ],
   "source": [
    "for i in num_lr:\n",
    "    plt.figure()\n",
    "    sns.boxplot(data=df_lr,y=i)"
   ]
  },
  {
   "cell_type": "code",
   "execution_count": 58,
   "id": "f8537ef4",
   "metadata": {},
   "outputs": [],
   "source": [
    "for i in num_lr:\n",
    "    q1=df_lr[i].quantile(0.25)\n",
    "    q3=df_lr[i].quantile(0.75)\n",
    "    iqr=q3-q1\n",
    "    ul = q3 + 1.5*iqr\n",
    "    ll = q1 - 1.5*iqr\n",
    "    \n",
    "    for c in df_lr[i]:\n",
    "        if c > ul:\n",
    "            df_lr[i] = df_lr[i].replace(c,ul)\n",
    "        elif c < ll:\n",
    "            df_lr[i] = df_lr[i].replace(c,ll)"
   ]
  },
  {
   "cell_type": "code",
   "execution_count": 59,
   "id": "12f8c9cd",
   "metadata": {},
   "outputs": [
    {
     "data": {
      "image/png": "[encoded data removed]",
      "text/plain": [
       "<Figure size 640x480 with 1 Axes>"
      ]
     },
     "metadata": {},
     "output_type": "display_data"
    },
    {
     "data": {
      "image/png": "[encoded data removed]",
      "text/plain": [
       "<Figure size 640x480 with 1 Axes>"
      ]
     },
     "metadata": {},
     "output_type": "display_data"
    }
   ],
   "source": [
    "for i in num_lr:\n",
    "    plt.figure()\n",
    "    sns.boxplot(data=df_lr,y=i)"
   ]
  },
  {
   "cell_type": "code",
   "execution_count": 60,
   "id": "6faca4f3",
   "metadata": {},
   "outputs": [
    {
     "data": {
      "text/plain": [
       "(1272, 5)"
      ]
     },
     "execution_count": 60,
     "metadata": {},
     "output_type": "execute_result"
    }
   ],
   "source": [
    "df_lr.shape"
   ]
  },
  {
   "cell_type": "code",
   "execution_count": 61,
   "id": "a3f37844",
   "metadata": {},
   "outputs": [],
   "source": [
    "from sklearn import metrics\n",
    "from sklearn.preprocessing import StandardScaler,MinMaxScaler,LabelEncoder\n",
    "from sklearn.model_selection import train_test_split\n",
    "from sklearn.linear_model import LinearRegression,LogisticRegression"
   ]
  },
  {
   "cell_type": "code",
   "execution_count": 62,
   "id": "fda08093",
   "metadata": {},
   "outputs": [],
   "source": [
    "sc=StandardScaler()"
   ]
  },
  {
   "cell_type": "code",
   "execution_count": 63,
   "id": "8cfad89b",
   "metadata": {},
   "outputs": [],
   "source": [
    "df_lr[num_lr]=sc.fit_transform(df_lr[num_lr])"
   ]
  },
  {
   "cell_type": "code",
   "execution_count": 64,
   "id": "a34a7cc1",
   "metadata": {},
   "outputs": [
    {
     "data": {
      "text/html": [
       "<div>\n",
       "<style scoped>\n",
       "    .dataframe tbody tr th:only-of-type {\n",
       "        vertical-align: middle;\n",
       "    }\n",
       "\n",
       "    .dataframe tbody tr th {\n",
       "        vertical-align: top;\n",
       "    }\n",
       "\n",
       "    .dataframe thead th {\n",
       "        text-align: right;\n",
       "    }\n",
       "</style>\n",
       "<table border=\"1\" class=\"dataframe\">\n",
       "  <thead>\n",
       "    <tr style=\"text-align: right;\">\n",
       "      <th></th>\n",
       "      <th>Ratings</th>\n",
       "      <th>Delivery_review_no</th>\n",
       "    </tr>\n",
       "  </thead>\n",
       "  <tbody>\n",
       "    <tr>\n",
       "      <th>0</th>\n",
       "      <td>0.261571</td>\n",
       "      <td>2.512902</td>\n",
       "    </tr>\n",
       "    <tr>\n",
       "      <th>1</th>\n",
       "      <td>1.012062</td>\n",
       "      <td>-0.623592</td>\n",
       "    </tr>\n",
       "    <tr>\n",
       "      <th>2</th>\n",
       "      <td>-0.739085</td>\n",
       "      <td>0.634800</td>\n",
       "    </tr>\n",
       "    <tr>\n",
       "      <th>3</th>\n",
       "      <td>-0.739085</td>\n",
       "      <td>-0.503444</td>\n",
       "    </tr>\n",
       "    <tr>\n",
       "      <th>4</th>\n",
       "      <td>-0.238757</td>\n",
       "      <td>-0.503444</td>\n",
       "    </tr>\n",
       "    <tr>\n",
       "      <th>...</th>\n",
       "      <td>...</td>\n",
       "      <td>...</td>\n",
       "    </tr>\n",
       "    <tr>\n",
       "      <th>1267</th>\n",
       "      <td>1.012062</td>\n",
       "      <td>-0.623592</td>\n",
       "    </tr>\n",
       "    <tr>\n",
       "      <th>1268</th>\n",
       "      <td>0.261571</td>\n",
       "      <td>-0.503444</td>\n",
       "    </tr>\n",
       "    <tr>\n",
       "      <th>1269</th>\n",
       "      <td>1.012062</td>\n",
       "      <td>-0.623592</td>\n",
       "    </tr>\n",
       "    <tr>\n",
       "      <th>1270</th>\n",
       "      <td>1.012062</td>\n",
       "      <td>-0.623592</td>\n",
       "    </tr>\n",
       "    <tr>\n",
       "      <th>1271</th>\n",
       "      <td>-1.239412</td>\n",
       "      <td>-0.566680</td>\n",
       "    </tr>\n",
       "  </tbody>\n",
       "</table>\n",
       "<p>1272 rows × 2 columns</p>\n",
       "</div>"
      ],
      "text/plain": [
       "       Ratings  Delivery_review_no\n",
       "0     0.261571            2.512902\n",
       "1     1.012062           -0.623592\n",
       "2    -0.739085            0.634800\n",
       "3    -0.739085           -0.503444\n",
       "4    -0.238757           -0.503444\n",
       "...        ...                 ...\n",
       "1267  1.012062           -0.623592\n",
       "1268  0.261571           -0.503444\n",
       "1269  1.012062           -0.623592\n",
       "1270  1.012062           -0.623592\n",
       "1271 -1.239412           -0.566680\n",
       "\n",
       "[1272 rows x 2 columns]"
      ]
     },
     "execution_count": 64,
     "metadata": {},
     "output_type": "execute_result"
    }
   ],
   "source": [
    "df_lr[num_lr]"
   ]
  },
  {
   "cell_type": "code",
   "execution_count": 65,
   "id": "2a4f5109",
   "metadata": {},
   "outputs": [],
   "source": [
    "le=LabelEncoder()"
   ]
  },
  {
   "cell_type": "code",
   "execution_count": 66,
   "id": "17ee868b",
   "metadata": {},
   "outputs": [],
   "source": [
    "for i in cat_lr:\n",
    "    df_lr[i]=le.fit_transform(df_lr[i])"
   ]
  },
  {
   "cell_type": "code",
   "execution_count": 67,
   "id": "e9296b3e",
   "metadata": {},
   "outputs": [
    {
     "data": {
      "text/html": [
       "<div>\n",
       "<style scoped>\n",
       "    .dataframe tbody tr th:only-of-type {\n",
       "        vertical-align: middle;\n",
       "    }\n",
       "\n",
       "    .dataframe tbody tr th {\n",
       "        vertical-align: top;\n",
       "    }\n",
       "\n",
       "    .dataframe thead th {\n",
       "        text-align: right;\n",
       "    }\n",
       "</style>\n",
       "<table border=\"1\" class=\"dataframe\">\n",
       "  <thead>\n",
       "    <tr style=\"text-align: right;\">\n",
       "      <th></th>\n",
       "      <th>Ratings</th>\n",
       "      <th>Cusines</th>\n",
       "      <th>Location</th>\n",
       "      <th>Delivery_review_no</th>\n",
       "      <th>Price_for_one</th>\n",
       "    </tr>\n",
       "  </thead>\n",
       "  <tbody>\n",
       "    <tr>\n",
       "      <th>0</th>\n",
       "      <td>0.261571</td>\n",
       "      <td>34</td>\n",
       "      <td>10</td>\n",
       "      <td>2.512902</td>\n",
       "      <td>450</td>\n",
       "    </tr>\n",
       "    <tr>\n",
       "      <th>1</th>\n",
       "      <td>1.012062</td>\n",
       "      <td>51</td>\n",
       "      <td>8</td>\n",
       "      <td>-0.623592</td>\n",
       "      <td>400</td>\n",
       "    </tr>\n",
       "    <tr>\n",
       "      <th>2</th>\n",
       "      <td>-0.739085</td>\n",
       "      <td>54</td>\n",
       "      <td>29</td>\n",
       "      <td>0.634800</td>\n",
       "      <td>200</td>\n",
       "    </tr>\n",
       "    <tr>\n",
       "      <th>3</th>\n",
       "      <td>-0.739085</td>\n",
       "      <td>3</td>\n",
       "      <td>49</td>\n",
       "      <td>-0.503444</td>\n",
       "      <td>150</td>\n",
       "    </tr>\n",
       "    <tr>\n",
       "      <th>4</th>\n",
       "      <td>-0.238757</td>\n",
       "      <td>54</td>\n",
       "      <td>28</td>\n",
       "      <td>-0.503444</td>\n",
       "      <td>300</td>\n",
       "    </tr>\n",
       "    <tr>\n",
       "      <th>...</th>\n",
       "      <td>...</td>\n",
       "      <td>...</td>\n",
       "      <td>...</td>\n",
       "      <td>...</td>\n",
       "      <td>...</td>\n",
       "    </tr>\n",
       "    <tr>\n",
       "      <th>1267</th>\n",
       "      <td>1.012062</td>\n",
       "      <td>3</td>\n",
       "      <td>28</td>\n",
       "      <td>-0.623592</td>\n",
       "      <td>200</td>\n",
       "    </tr>\n",
       "    <tr>\n",
       "      <th>1268</th>\n",
       "      <td>0.261571</td>\n",
       "      <td>13</td>\n",
       "      <td>34</td>\n",
       "      <td>-0.503444</td>\n",
       "      <td>100</td>\n",
       "    </tr>\n",
       "    <tr>\n",
       "      <th>1269</th>\n",
       "      <td>1.012062</td>\n",
       "      <td>7</td>\n",
       "      <td>61</td>\n",
       "      <td>-0.623592</td>\n",
       "      <td>100</td>\n",
       "    </tr>\n",
       "    <tr>\n",
       "      <th>1270</th>\n",
       "      <td>1.012062</td>\n",
       "      <td>53</td>\n",
       "      <td>61</td>\n",
       "      <td>-0.623592</td>\n",
       "      <td>200</td>\n",
       "    </tr>\n",
       "    <tr>\n",
       "      <th>1271</th>\n",
       "      <td>-1.239412</td>\n",
       "      <td>6</td>\n",
       "      <td>12</td>\n",
       "      <td>-0.566680</td>\n",
       "      <td>300</td>\n",
       "    </tr>\n",
       "  </tbody>\n",
       "</table>\n",
       "<p>1272 rows × 5 columns</p>\n",
       "</div>"
      ],
      "text/plain": [
       "       Ratings  Cusines  Location  Delivery_review_no  Price_for_one\n",
       "0     0.261571       34        10            2.512902            450\n",
       "1     1.012062       51         8           -0.623592            400\n",
       "2    -0.739085       54        29            0.634800            200\n",
       "3    -0.739085        3        49           -0.503444            150\n",
       "4    -0.238757       54        28           -0.503444            300\n",
       "...        ...      ...       ...                 ...            ...\n",
       "1267  1.012062        3        28           -0.623592            200\n",
       "1268  0.261571       13        34           -0.503444            100\n",
       "1269  1.012062        7        61           -0.623592            100\n",
       "1270  1.012062       53        61           -0.623592            200\n",
       "1271 -1.239412        6        12           -0.566680            300\n",
       "\n",
       "[1272 rows x 5 columns]"
      ]
     },
     "execution_count": 67,
     "metadata": {},
     "output_type": "execute_result"
    }
   ],
   "source": [
    "df_lr"
   ]
  },
  {
   "cell_type": "code",
   "execution_count": 68,
   "id": "7d8818fc",
   "metadata": {},
   "outputs": [],
   "source": [
    "X_sc=df_lr.drop(\"Price_for_one\",axis=1)\n",
    "y_sc=df_lr[\"Price_for_one\"]"
   ]
  },
  {
   "cell_type": "code",
   "execution_count": 69,
   "id": "a180af6e",
   "metadata": {},
   "outputs": [],
   "source": [
    "X_train_sc,X_test_sc,y_train_sc,y_test_sc=train_test_split(X_sc,y_sc,test_size=0.20,random_state=10)"
   ]
  },
  {
   "cell_type": "code",
   "execution_count": 70,
   "id": "8a98fdf7",
   "metadata": {},
   "outputs": [],
   "source": [
    "lr=LinearRegression()"
   ]
  },
  {
   "cell_type": "code",
   "execution_count": 71,
   "id": "3cf731dd",
   "metadata": {},
   "outputs": [
    {
     "data": {
      "text/plain": [
       "LinearRegression()"
      ]
     },
     "execution_count": 71,
     "metadata": {},
     "output_type": "execute_result"
    }
   ],
   "source": [
    "lr.fit(X_train_sc,y_train_sc)"
   ]
  },
  {
   "cell_type": "code",
   "execution_count": 72,
   "id": "28faf5e8",
   "metadata": {},
   "outputs": [],
   "source": [
    "y_pred_sc=lr.predict(X_test_sc)"
   ]
  },
  {
   "cell_type": "code",
   "execution_count": 73,
   "id": "31b54c6b",
   "metadata": {},
   "outputs": [],
   "source": [
    "r2=metrics.r2_score(y_test_sc,y_pred_sc)"
   ]
  },
  {
   "cell_type": "code",
   "execution_count": 74,
   "id": "46fa3e25",
   "metadata": {},
   "outputs": [
    {
     "name": "stdout",
     "output_type": "stream",
     "text": [
      "R-squared score: 0.036912327424464375\n",
      "Adjusted R-squared score: 0.021502924663255873\n"
     ]
    }
   ],
   "source": [
    "n = len(y_test_sc)\n",
    "k = 4\n",
    "\n",
    "# Calculate the adjusted R-squared score\n",
    "adjusted_r2 = 1 - (1 - r2) * (n - 1) / (n - k - 1)\n",
    "\n",
    "print(\"R-squared score:\", r2)\n",
    "print(\"Adjusted R-squared score:\", adjusted_r2)"
   ]
  },
  {
   "cell_type": "code",
   "execution_count": 75,
   "id": "8ec2659b",
   "metadata": {},
   "outputs": [
    {
     "data": {
      "text/plain": [
       "171.04892549909138"
      ]
     },
     "execution_count": 75,
     "metadata": {},
     "output_type": "execute_result"
    }
   ],
   "source": [
    "metrics.mean_absolute_error(y_test_sc,y_pred_sc)"
   ]
  },
  {
   "cell_type": "code",
   "execution_count": 76,
   "id": "37c6b8f8",
   "metadata": {},
   "outputs": [
    {
     "data": {
      "text/plain": [
       "57338.44312697913"
      ]
     },
     "execution_count": 76,
     "metadata": {},
     "output_type": "execute_result"
    }
   ],
   "source": [
    "metrics.mean_squared_error(y_test_sc,y_pred_sc)"
   ]
  },
  {
   "cell_type": "code",
   "execution_count": 77,
   "id": "730573e1",
   "metadata": {},
   "outputs": [
    {
     "data": {
      "text/plain": [
       "239.45446984130226"
      ]
     },
     "execution_count": 77,
     "metadata": {},
     "output_type": "execute_result"
    }
   ],
   "source": [
    "np.sqrt(metrics.mean_squared_error(y_test_sc,y_pred_sc))"
   ]
  },
  {
   "cell_type": "markdown",
   "id": "ca42fc94",
   "metadata": {},
   "source": [
    "# Logistic Regression Model"
   ]
  },
  {
   "cell_type": "code",
   "execution_count": 78,
   "id": "975a594e",
   "metadata": {},
   "outputs": [],
   "source": [
    "df_lg=df1.copy()"
   ]
  },
  {
   "cell_type": "code",
   "execution_count": 79,
   "id": "9afd5241",
   "metadata": {},
   "outputs": [
    {
     "data": {
      "text/html": [
       "<div>\n",
       "<style scoped>\n",
       "    .dataframe tbody tr th:only-of-type {\n",
       "        vertical-align: middle;\n",
       "    }\n",
       "\n",
       "    .dataframe tbody tr th {\n",
       "        vertical-align: top;\n",
       "    }\n",
       "\n",
       "    .dataframe thead th {\n",
       "        text-align: right;\n",
       "    }\n",
       "</style>\n",
       "<table border=\"1\" class=\"dataframe\">\n",
       "  <thead>\n",
       "    <tr style=\"text-align: right;\">\n",
       "      <th></th>\n",
       "      <th>Ratings</th>\n",
       "      <th>Cusines</th>\n",
       "      <th>Location</th>\n",
       "      <th>Delivery_review_no</th>\n",
       "      <th>Price_for_one</th>\n",
       "    </tr>\n",
       "  </thead>\n",
       "  <tbody>\n",
       "    <tr>\n",
       "      <th>0</th>\n",
       "      <td>4.3</td>\n",
       "      <td>Kebabs</td>\n",
       "      <td>Brigade Road</td>\n",
       "      <td>10000</td>\n",
       "      <td>450</td>\n",
       "    </tr>\n",
       "    <tr>\n",
       "      <th>1</th>\n",
       "      <td>4.6</td>\n",
       "      <td>Salads</td>\n",
       "      <td>Basavanagudi</td>\n",
       "      <td>5</td>\n",
       "      <td>400</td>\n",
       "    </tr>\n",
       "    <tr>\n",
       "      <th>2</th>\n",
       "      <td>3.9</td>\n",
       "      <td>South Indian</td>\n",
       "      <td>Koramangala</td>\n",
       "      <td>1000</td>\n",
       "      <td>200</td>\n",
       "    </tr>\n",
       "    <tr>\n",
       "      <th>3</th>\n",
       "      <td>3.9</td>\n",
       "      <td>Bakery</td>\n",
       "      <td>Richmond Town</td>\n",
       "      <td>100</td>\n",
       "      <td>150</td>\n",
       "    </tr>\n",
       "    <tr>\n",
       "      <th>4</th>\n",
       "      <td>4.1</td>\n",
       "      <td>South Indian</td>\n",
       "      <td>Jayanagar</td>\n",
       "      <td>100</td>\n",
       "      <td>300</td>\n",
       "    </tr>\n",
       "    <tr>\n",
       "      <th>...</th>\n",
       "      <td>...</td>\n",
       "      <td>...</td>\n",
       "      <td>...</td>\n",
       "      <td>...</td>\n",
       "      <td>...</td>\n",
       "    </tr>\n",
       "    <tr>\n",
       "      <th>1267</th>\n",
       "      <td>4.6</td>\n",
       "      <td>Bakery</td>\n",
       "      <td>Jayanagar</td>\n",
       "      <td>5</td>\n",
       "      <td>200</td>\n",
       "    </tr>\n",
       "    <tr>\n",
       "      <th>1268</th>\n",
       "      <td>4.3</td>\n",
       "      <td>Chinese</td>\n",
       "      <td>Malleswaram</td>\n",
       "      <td>100</td>\n",
       "      <td>100</td>\n",
       "    </tr>\n",
       "    <tr>\n",
       "      <th>1269</th>\n",
       "      <td>4.6</td>\n",
       "      <td>Biryani</td>\n",
       "      <td>Vijay Nagar</td>\n",
       "      <td>5</td>\n",
       "      <td>100</td>\n",
       "    </tr>\n",
       "    <tr>\n",
       "      <th>1270</th>\n",
       "      <td>4.6</td>\n",
       "      <td>Snacks</td>\n",
       "      <td>Vijay Nagar</td>\n",
       "      <td>5</td>\n",
       "      <td>200</td>\n",
       "    </tr>\n",
       "    <tr>\n",
       "      <th>1271</th>\n",
       "      <td>3.7</td>\n",
       "      <td>Beverages</td>\n",
       "      <td>Central Bangalore</td>\n",
       "      <td>50</td>\n",
       "      <td>300</td>\n",
       "    </tr>\n",
       "  </tbody>\n",
       "</table>\n",
       "<p>1272 rows × 5 columns</p>\n",
       "</div>"
      ],
      "text/plain": [
       "      Ratings       Cusines           Location  Delivery_review_no  \\\n",
       "0         4.3        Kebabs       Brigade Road               10000   \n",
       "1         4.6        Salads       Basavanagudi                   5   \n",
       "2         3.9  South Indian        Koramangala                1000   \n",
       "3         3.9        Bakery      Richmond Town                 100   \n",
       "4         4.1  South Indian          Jayanagar                 100   \n",
       "...       ...           ...                ...                 ...   \n",
       "1267      4.6        Bakery          Jayanagar                   5   \n",
       "1268      4.3       Chinese        Malleswaram                 100   \n",
       "1269      4.6       Biryani        Vijay Nagar                   5   \n",
       "1270      4.6        Snacks        Vijay Nagar                   5   \n",
       "1271      3.7     Beverages  Central Bangalore                  50   \n",
       "\n",
       "      Price_for_one  \n",
       "0               450  \n",
       "1               400  \n",
       "2               200  \n",
       "3               150  \n",
       "4               300  \n",
       "...             ...  \n",
       "1267            200  \n",
       "1268            100  \n",
       "1269            100  \n",
       "1270            200  \n",
       "1271            300  \n",
       "\n",
       "[1272 rows x 5 columns]"
      ]
     },
     "execution_count": 79,
     "metadata": {},
     "output_type": "execute_result"
    }
   ],
   "source": [
    "df_lg"
   ]
  },
  {
   "cell_type": "code",
   "execution_count": 80,
   "id": "fa2d2bd7",
   "metadata": {},
   "outputs": [],
   "source": [
    "num_lg=[\"Ratings\",\"Delivery_review_no\",\"Price_for_one\"]\n",
    "cat_lg=[\"Location\",\"Cusines\"]"
   ]
  },
  {
   "cell_type": "code",
   "execution_count": 81,
   "id": "4a70a819",
   "metadata": {},
   "outputs": [
    {
     "data": {
      "image/png": "[encoded data removed]",
      "text/plain": [
       "<Figure size 640x480 with 1 Axes>"
      ]
     },
     "metadata": {},
     "output_type": "display_data"
    },
    {
     "data": {
      "image/png": "[encoded data removed]",
      "text/plain": [
       "<Figure size 640x480 with 1 Axes>"
      ]
     },
     "metadata": {},
     "output_type": "display_data"
    },
    {
     "data": {
      "image/png": "[encoded data removed]",
      "text/plain": [
       "<Figure size 640x480 with 1 Axes>"
      ]
     },
     "metadata": {},
     "output_type": "display_data"
    }
   ],
   "source": [
    "for i in num_lg:\n",
    "    plt.figure()\n",
    "    sns.boxplot(data=df_lg,y=i)"
   ]
  },
  {
   "cell_type": "code",
   "execution_count": 82,
   "id": "f5360b32",
   "metadata": {},
   "outputs": [],
   "source": [
    "for i in num_lg:\n",
    "    q1=df_lg[i].quantile(0.25)\n",
    "    q3=df_lg[i].quantile(0.75)\n",
    "    iqr=q3-q1\n",
    "    ul = q3 + 1.5*iqr\n",
    "    ll = q1 - 1.5*iqr\n",
    "    \n",
    "    for c in df_lg[i]:\n",
    "        if c > ul:\n",
    "            df_lg[i] = df_lg[i].replace(c,ul)\n",
    "        elif c < ll:\n",
    "            df_lg[i] = df_lg[i].replace(c,ll)"
   ]
  },
  {
   "cell_type": "code",
   "execution_count": 83,
   "id": "c7311372",
   "metadata": {},
   "outputs": [
    {
     "data": {
      "image/png": "[encoded data removed]",
      "text/plain": [
       "<Figure size 640x480 with 1 Axes>"
      ]
     },
     "metadata": {},
     "output_type": "display_data"
    },
    {
     "data": {
      "image/png": "[encoded data removed]",
      "text/plain": [
       "<Figure size 640x480 with 1 Axes>"
      ]
     },
     "metadata": {},
     "output_type": "display_data"
    },
    {
     "data": {
      "image/png": "[encoded data removed]",
      "text/plain": [
       "<Figure size 640x480 with 1 Axes>"
      ]
     },
     "metadata": {},
     "output_type": "display_data"
    }
   ],
   "source": [
    "for i in num_lg:\n",
    "    plt.figure()\n",
    "    sns.boxplot(data=df_lg,y=i)"
   ]
  },
  {
   "cell_type": "code",
   "execution_count": 84,
   "id": "20857bde",
   "metadata": {},
   "outputs": [
    {
     "data": {
      "text/plain": [
       "(1272, 5)"
      ]
     },
     "execution_count": 84,
     "metadata": {},
     "output_type": "execute_result"
    }
   ],
   "source": [
    "df_lg.shape"
   ]
  },
  {
   "cell_type": "code",
   "execution_count": 85,
   "id": "97d92b36",
   "metadata": {},
   "outputs": [],
   "source": [
    "mm=MinMaxScaler()"
   ]
  },
  {
   "cell_type": "code",
   "execution_count": 86,
   "id": "1416422a",
   "metadata": {},
   "outputs": [],
   "source": [
    "df_lg[num_lg]=mm.fit_transform(df_lg[num_lg])"
   ]
  },
  {
   "cell_type": "code",
   "execution_count": 87,
   "id": "49ca10f7",
   "metadata": {},
   "outputs": [
    {
     "data": {
      "text/html": [
       "<div>\n",
       "<style scoped>\n",
       "    .dataframe tbody tr th:only-of-type {\n",
       "        vertical-align: middle;\n",
       "    }\n",
       "\n",
       "    .dataframe tbody tr th {\n",
       "        vertical-align: top;\n",
       "    }\n",
       "\n",
       "    .dataframe thead th {\n",
       "        text-align: right;\n",
       "    }\n",
       "</style>\n",
       "<table border=\"1\" class=\"dataframe\">\n",
       "  <thead>\n",
       "    <tr style=\"text-align: right;\">\n",
       "      <th></th>\n",
       "      <th>Ratings</th>\n",
       "      <th>Delivery_review_no</th>\n",
       "      <th>Price_for_one</th>\n",
       "    </tr>\n",
       "  </thead>\n",
       "  <tbody>\n",
       "    <tr>\n",
       "      <th>0</th>\n",
       "      <td>0.631579</td>\n",
       "      <td>1.000000</td>\n",
       "      <td>0.482759</td>\n",
       "    </tr>\n",
       "    <tr>\n",
       "      <th>1</th>\n",
       "      <td>0.789474</td>\n",
       "      <td>0.001208</td>\n",
       "      <td>0.413793</td>\n",
       "    </tr>\n",
       "    <tr>\n",
       "      <th>2</th>\n",
       "      <td>0.421053</td>\n",
       "      <td>0.401933</td>\n",
       "      <td>0.137931</td>\n",
       "    </tr>\n",
       "    <tr>\n",
       "      <th>3</th>\n",
       "      <td>0.421053</td>\n",
       "      <td>0.039468</td>\n",
       "      <td>0.068966</td>\n",
       "    </tr>\n",
       "    <tr>\n",
       "      <th>4</th>\n",
       "      <td>0.526316</td>\n",
       "      <td>0.039468</td>\n",
       "      <td>0.275862</td>\n",
       "    </tr>\n",
       "    <tr>\n",
       "      <th>...</th>\n",
       "      <td>...</td>\n",
       "      <td>...</td>\n",
       "      <td>...</td>\n",
       "    </tr>\n",
       "    <tr>\n",
       "      <th>1267</th>\n",
       "      <td>0.789474</td>\n",
       "      <td>0.001208</td>\n",
       "      <td>0.137931</td>\n",
       "    </tr>\n",
       "    <tr>\n",
       "      <th>1268</th>\n",
       "      <td>0.631579</td>\n",
       "      <td>0.039468</td>\n",
       "      <td>0.000000</td>\n",
       "    </tr>\n",
       "    <tr>\n",
       "      <th>1269</th>\n",
       "      <td>0.789474</td>\n",
       "      <td>0.001208</td>\n",
       "      <td>0.000000</td>\n",
       "    </tr>\n",
       "    <tr>\n",
       "      <th>1270</th>\n",
       "      <td>0.789474</td>\n",
       "      <td>0.001208</td>\n",
       "      <td>0.137931</td>\n",
       "    </tr>\n",
       "    <tr>\n",
       "      <th>1271</th>\n",
       "      <td>0.315789</td>\n",
       "      <td>0.019331</td>\n",
       "      <td>0.275862</td>\n",
       "    </tr>\n",
       "  </tbody>\n",
       "</table>\n",
       "<p>1272 rows × 3 columns</p>\n",
       "</div>"
      ],
      "text/plain": [
       "       Ratings  Delivery_review_no  Price_for_one\n",
       "0     0.631579            1.000000       0.482759\n",
       "1     0.789474            0.001208       0.413793\n",
       "2     0.421053            0.401933       0.137931\n",
       "3     0.421053            0.039468       0.068966\n",
       "4     0.526316            0.039468       0.275862\n",
       "...        ...                 ...            ...\n",
       "1267  0.789474            0.001208       0.137931\n",
       "1268  0.631579            0.039468       0.000000\n",
       "1269  0.789474            0.001208       0.000000\n",
       "1270  0.789474            0.001208       0.137931\n",
       "1271  0.315789            0.019331       0.275862\n",
       "\n",
       "[1272 rows x 3 columns]"
      ]
     },
     "execution_count": 87,
     "metadata": {},
     "output_type": "execute_result"
    }
   ],
   "source": [
    "df_lg[num_lg]"
   ]
  },
  {
   "cell_type": "code",
   "execution_count": 88,
   "id": "0117cb7e",
   "metadata": {},
   "outputs": [
    {
     "data": {
      "text/plain": [
       "array(['American', 'Andhra', 'Asian', 'Bakery', 'Barbecue', 'Bengali',\n",
       "       'Beverages', 'Biryani', 'Burgers', 'Burmese', 'Cafe', 'Chaat',\n",
       "       'Chettinad', 'Chinese', 'Coastal', 'Combo', 'Continental',\n",
       "       'Desserts', 'European', 'Fast Food', 'French', 'Greek', 'Grill',\n",
       "       'Healthy Food', 'Home Food', 'Hyderabadi', 'Ice Cream',\n",
       "       'Ice Cream Cakes', 'Indian', 'Italian', 'Italian-American', 'Jain',\n",
       "       'Japanese', 'Juices', 'Kebabs', 'Kerala', 'Keto', 'Konkan',\n",
       "       'Lebanese', 'Mangalorean', 'Mexican', 'Mughlai', 'Nepalese',\n",
       "       'North Indian', 'Oriental', 'Oriya', 'Pan-Asian', 'Pastas',\n",
       "       'Pizzas', 'Punjabi', 'Rajasthani', 'Salads', 'Seafood', 'Snacks',\n",
       "       'South Indian', 'Steakhouse', 'Street Food', 'Sweets', 'Tandoor',\n",
       "       'Thai', 'Thalis', 'Tibetan', 'Turkish', 'Waffle'], dtype=object)"
      ]
     },
     "execution_count": 88,
     "metadata": {},
     "output_type": "execute_result"
    }
   ],
   "source": [
    "x_c=df_lg[\"Cusines\"].sort_values().unique()\n",
    "x_c"
   ]
  },
  {
   "cell_type": "code",
   "execution_count": 89,
   "id": "97559032",
   "metadata": {},
   "outputs": [
    {
     "name": "stdout",
     "output_type": "stream",
     "text": [
      "['American', 'Andhra', 'Asian', 'Bakery', 'Barbecue', 'Bengali', 'Beverages', 'Biryani', 'Burgers', 'Burmese', 'Cafe', 'Chaat', 'Chettinad', 'Chinese', 'Coastal', 'Combo', 'Continental', 'Desserts', 'European', 'Fast Food', 'French', 'Greek', 'Grill', 'Healthy Food', 'Home Food', 'Hyderabadi', 'Ice Cream', 'Ice Cream Cakes', 'Indian', 'Italian', 'Italian-American', 'Jain', 'Japanese', 'Juices', 'Kebabs', 'Kerala', 'Keto', 'Konkan', 'Lebanese', 'Mangalorean', 'Mexican', 'Mughlai', 'Nepalese', 'North Indian', 'Oriental', 'Oriya', 'Pan-Asian', 'Pastas', 'Pizzas', 'Punjabi', 'Rajasthani', 'Salads', 'Seafood', 'Snacks', 'South Indian', 'Steakhouse', 'Street Food', 'Sweets', 'Tandoor', 'Thai', 'Thalis', 'Tibetan', 'Turkish', 'Waffle']\n"
     ]
    }
   ],
   "source": [
    "ls_c=[]\n",
    "for i in x_c:\n",
    "    ls_c.append(i)\n",
    "    \n",
    "print(ls_c)"
   ]
  },
  {
   "cell_type": "code",
   "execution_count": 90,
   "id": "19fb58fb",
   "metadata": {},
   "outputs": [
    {
     "name": "stdout",
     "output_type": "stream",
     "text": [
      "{0: 'American', 1: 'Andhra', 2: 'Asian', 3: 'Bakery', 4: 'Barbecue', 5: 'Bengali', 6: 'Beverages', 7: 'Biryani', 8: 'Burgers', 9: 'Burmese', 10: 'Cafe', 11: 'Chaat', 12: 'Chettinad', 13: 'Chinese', 14: 'Coastal', 15: 'Combo', 16: 'Continental', 17: 'Desserts', 18: 'European', 19: 'Fast Food', 20: 'French', 21: 'Greek', 22: 'Grill', 23: 'Healthy Food', 24: 'Home Food', 25: 'Hyderabadi', 26: 'Ice Cream', 27: 'Ice Cream Cakes', 28: 'Indian', 29: 'Italian', 30: 'Italian-American', 31: 'Jain', 32: 'Japanese', 33: 'Juices', 34: 'Kebabs', 35: 'Kerala', 36: 'Keto', 37: 'Konkan', 38: 'Lebanese', 39: 'Mangalorean', 40: 'Mexican', 41: 'Mughlai', 42: 'Nepalese', 43: 'North Indian', 44: 'Oriental', 45: 'Oriya', 46: 'Pan-Asian', 47: 'Pastas', 48: 'Pizzas', 49: 'Punjabi', 50: 'Rajasthani', 51: 'Salads', 52: 'Seafood', 53: 'Snacks', 54: 'South Indian', 55: 'Steakhouse', 56: 'Street Food', 57: 'Sweets', 58: 'Tandoor', 59: 'Thai', 60: 'Thalis', 61: 'Tibetan', 62: 'Turkish', 63: 'Waffle'}\n"
     ]
    }
   ],
   "source": [
    "d_Cusines=dict(enumerate(ls_c,start=0))\n",
    "\n",
    "print(d_Cusines)"
   ]
  },
  {
   "cell_type": "code",
   "execution_count": 91,
   "id": "b0bbbea9",
   "metadata": {},
   "outputs": [
    {
     "data": {
      "text/plain": [
       "'Andhra'"
      ]
     },
     "execution_count": 91,
     "metadata": {},
     "output_type": "execute_result"
    }
   ],
   "source": [
    "d_Cusines[1]"
   ]
  },
  {
   "cell_type": "code",
   "execution_count": 92,
   "id": "f13d2fa6",
   "metadata": {},
   "outputs": [
    {
     "data": {
      "text/plain": [
       "array(['4th Block', 'Adugodi', 'Ashok Nagar', 'Austin Town', 'BTM',\n",
       "       'BTM Layout', 'Banashankari', 'Bannerghatta Main Road',\n",
       "       'Basavanagudi', 'Basaveshwar Nagar', 'Brigade Road',\n",
       "       'Bull Temple Road', 'Central Bangalore', 'Chamarajpet', 'Chikpete',\n",
       "       'Church Street', 'City Market', 'Commercial Street',\n",
       "       'Cunningham Road', 'Dispensary Rd', 'Domlur', 'Domlur layout',\n",
       "       'Ejipura', 'FORUM REX WALK', 'Frazer Town', 'Gandhi Nagar',\n",
       "       'Halasuru', 'Indiranagar', 'Jayanagar', 'Koramangala',\n",
       "       'Lakshmi Road', 'Lavelle Road', 'Magrath Road', 'Majestic',\n",
       "       'Malleswaram', 'Monarch Plaza', 'Mount Joy Rd', 'Mysore Road',\n",
       "       'Opp to Sapna Book House, Gandhi Nagar',\n",
       "       'PES college Hanumanth nagar', 'PRESTIGE FORUM REX',\n",
       "       'Palace Cross Road', 'R.T. Nagar', 'Race Course Road',\n",
       "       'Rajajinagar', 'Rajajinagar 2Nd Block', 'Residency Road',\n",
       "       'Residency Road (Shanti Nagar)', 'Richmond Road', 'Richmond Town',\n",
       "       'SG Palya', 'Sadashiv Nagar', 'Sampangirama Nagar', 'Santhi Nagar',\n",
       "       'Shanti Nagar', 'Sheshadripuram', 'Shivaji Nagar',\n",
       "       'St. Marks Road', 'Tavarekere', 'Ulsoor', 'Vasanth Nagar',\n",
       "       'Vijay Nagar', 'Vittal Mallya Road', 'Whitefield', 'Wilson Garden'],\n",
       "      dtype=object)"
      ]
     },
     "execution_count": 92,
     "metadata": {},
     "output_type": "execute_result"
    }
   ],
   "source": [
    "x_l=df_lg[\"Location\"].sort_values().unique()\n",
    "x_l"
   ]
  },
  {
   "cell_type": "code",
   "execution_count": 93,
   "id": "1734e06c",
   "metadata": {},
   "outputs": [
    {
     "name": "stdout",
     "output_type": "stream",
     "text": [
      "['4th Block', 'Adugodi', 'Ashok Nagar', 'Austin Town', 'BTM', 'BTM Layout', 'Banashankari', 'Bannerghatta Main Road', 'Basavanagudi', 'Basaveshwar Nagar', 'Brigade Road', 'Bull Temple Road', 'Central Bangalore', 'Chamarajpet', 'Chikpete', 'Church Street', 'City Market', 'Commercial Street', 'Cunningham Road', 'Dispensary Rd', 'Domlur', 'Domlur layout', 'Ejipura', 'FORUM REX WALK', 'Frazer Town', 'Gandhi Nagar', 'Halasuru', 'Indiranagar', 'Jayanagar', 'Koramangala', 'Lakshmi Road', 'Lavelle Road', 'Magrath Road', 'Majestic', 'Malleswaram', 'Monarch Plaza', 'Mount Joy Rd', 'Mysore Road', 'Opp to Sapna Book House, Gandhi Nagar', 'PES college Hanumanth nagar', 'PRESTIGE FORUM REX', 'Palace Cross Road', 'R.T. Nagar', 'Race Course Road', 'Rajajinagar', 'Rajajinagar 2Nd Block', 'Residency Road', 'Residency Road (Shanti Nagar)', 'Richmond Road', 'Richmond Town', 'SG Palya', 'Sadashiv Nagar', 'Sampangirama Nagar', 'Santhi Nagar', 'Shanti Nagar', 'Sheshadripuram', 'Shivaji Nagar', 'St. Marks Road', 'Tavarekere', 'Ulsoor', 'Vasanth Nagar', 'Vijay Nagar', 'Vittal Mallya Road', 'Whitefield', 'Wilson Garden']\n"
     ]
    }
   ],
   "source": [
    "ls_l=[]\n",
    "for i in x_l:\n",
    "    ls_l.append(i)\n",
    "    \n",
    "print(ls_l)"
   ]
  },
  {
   "cell_type": "code",
   "execution_count": 94,
   "id": "5aaca518",
   "metadata": {},
   "outputs": [
    {
     "name": "stdout",
     "output_type": "stream",
     "text": [
      "{0: '4th Block', 1: 'Adugodi', 2: 'Ashok Nagar', 3: 'Austin Town', 4: 'BTM', 5: 'BTM Layout', 6: 'Banashankari', 7: 'Bannerghatta Main Road', 8: 'Basavanagudi', 9: 'Basaveshwar Nagar', 10: 'Brigade Road', 11: 'Bull Temple Road', 12: 'Central Bangalore', 13: 'Chamarajpet', 14: 'Chikpete', 15: 'Church Street', 16: 'City Market', 17: 'Commercial Street', 18: 'Cunningham Road', 19: 'Dispensary Rd', 20: 'Domlur', 21: 'Domlur layout', 22: 'Ejipura', 23: 'FORUM REX WALK', 24: 'Frazer Town', 25: 'Gandhi Nagar', 26: 'Halasuru', 27: 'Indiranagar', 28: 'Jayanagar', 29: 'Koramangala', 30: 'Lakshmi Road', 31: 'Lavelle Road', 32: 'Magrath Road', 33: 'Majestic', 34: 'Malleswaram', 35: 'Monarch Plaza', 36: 'Mount Joy Rd', 37: 'Mysore Road', 38: 'Opp to Sapna Book House, Gandhi Nagar', 39: 'PES college Hanumanth nagar', 40: 'PRESTIGE FORUM REX', 41: 'Palace Cross Road', 42: 'R.T. Nagar', 43: 'Race Course Road', 44: 'Rajajinagar', 45: 'Rajajinagar 2Nd Block', 46: 'Residency Road', 47: 'Residency Road (Shanti Nagar)', 48: 'Richmond Road', 49: 'Richmond Town', 50: 'SG Palya', 51: 'Sadashiv Nagar', 52: 'Sampangirama Nagar', 53: 'Santhi Nagar', 54: 'Shanti Nagar', 55: 'Sheshadripuram', 56: 'Shivaji Nagar', 57: 'St. Marks Road', 58: 'Tavarekere', 59: 'Ulsoor', 60: 'Vasanth Nagar', 61: 'Vijay Nagar', 62: 'Vittal Mallya Road', 63: 'Whitefield', 64: 'Wilson Garden'}\n"
     ]
    }
   ],
   "source": [
    "d_Location=dict(enumerate(ls_l,start=0))\n",
    "\n",
    "print(d_Location)"
   ]
  },
  {
   "cell_type": "code",
   "execution_count": 95,
   "id": "4617a171",
   "metadata": {},
   "outputs": [
    {
     "data": {
      "text/html": [
       "<div>\n",
       "<style scoped>\n",
       "    .dataframe tbody tr th:only-of-type {\n",
       "        vertical-align: middle;\n",
       "    }\n",
       "\n",
       "    .dataframe tbody tr th {\n",
       "        vertical-align: top;\n",
       "    }\n",
       "\n",
       "    .dataframe thead th {\n",
       "        text-align: right;\n",
       "    }\n",
       "</style>\n",
       "<table border=\"1\" class=\"dataframe\">\n",
       "  <thead>\n",
       "    <tr style=\"text-align: right;\">\n",
       "      <th></th>\n",
       "      <th>Restaurant_Name</th>\n",
       "      <th>Ratings</th>\n",
       "      <th>Cusines</th>\n",
       "      <th>Location</th>\n",
       "      <th>Delivery_review_no</th>\n",
       "      <th>Restaurant_link</th>\n",
       "      <th>Price_for_one</th>\n",
       "    </tr>\n",
       "  </thead>\n",
       "  <tbody>\n",
       "    <tr>\n",
       "      <th>0</th>\n",
       "      <td>Hotel Empire</td>\n",
       "      <td>4.3</td>\n",
       "      <td>Kebabs</td>\n",
       "      <td>Brigade Road</td>\n",
       "      <td>10000</td>\n",
       "      <td>https://www.swiggy.com/restaurants/dilwale-res...</td>\n",
       "      <td>450</td>\n",
       "    </tr>\n",
       "    <tr>\n",
       "      <th>1</th>\n",
       "      <td>Protein Station</td>\n",
       "      <td>4.6</td>\n",
       "      <td>Salads</td>\n",
       "      <td>Basavanagudi</td>\n",
       "      <td>5</td>\n",
       "      <td>https://www.swiggy.com/restaurants/dilwale-res...</td>\n",
       "      <td>400</td>\n",
       "    </tr>\n",
       "    <tr>\n",
       "      <th>2</th>\n",
       "      <td>Halli Donne Biryani</td>\n",
       "      <td>3.9</td>\n",
       "      <td>South Indian</td>\n",
       "      <td>Koramangala</td>\n",
       "      <td>1000</td>\n",
       "      <td>https://www.swiggy.com/restaurants/dilwale-res...</td>\n",
       "      <td>200</td>\n",
       "    </tr>\n",
       "    <tr>\n",
       "      <th>3</th>\n",
       "      <td>Edesia by Freshmenu</td>\n",
       "      <td>3.9</td>\n",
       "      <td>Bakery</td>\n",
       "      <td>Richmond Town</td>\n",
       "      <td>100</td>\n",
       "      <td>https://www.swiggy.com/restaurants/dilwale-res...</td>\n",
       "      <td>150</td>\n",
       "    </tr>\n",
       "    <tr>\n",
       "      <th>4</th>\n",
       "      <td>Mangalore Sea Palate</td>\n",
       "      <td>4.1</td>\n",
       "      <td>South Indian</td>\n",
       "      <td>Jayanagar</td>\n",
       "      <td>100</td>\n",
       "      <td>https://www.swiggy.com/restaurants/dilwale-res...</td>\n",
       "      <td>300</td>\n",
       "    </tr>\n",
       "    <tr>\n",
       "      <th>...</th>\n",
       "      <td>...</td>\n",
       "      <td>...</td>\n",
       "      <td>...</td>\n",
       "      <td>...</td>\n",
       "      <td>...</td>\n",
       "      <td>...</td>\n",
       "      <td>...</td>\n",
       "    </tr>\n",
       "    <tr>\n",
       "      <th>1267</th>\n",
       "      <td>Dream Cakes</td>\n",
       "      <td>4.6</td>\n",
       "      <td>Bakery</td>\n",
       "      <td>Jayanagar</td>\n",
       "      <td>5</td>\n",
       "      <td>https://www.swiggy.com/restaurants/dilwale-res...</td>\n",
       "      <td>200</td>\n",
       "    </tr>\n",
       "    <tr>\n",
       "      <th>1268</th>\n",
       "      <td>Dev Foods Jigarthanda</td>\n",
       "      <td>4.3</td>\n",
       "      <td>Chinese</td>\n",
       "      <td>Malleswaram</td>\n",
       "      <td>100</td>\n",
       "      <td>https://www.swiggy.com/restaurants/dilwale-res...</td>\n",
       "      <td>100</td>\n",
       "    </tr>\n",
       "    <tr>\n",
       "      <th>1269</th>\n",
       "      <td>SLN Tiffin Room</td>\n",
       "      <td>4.6</td>\n",
       "      <td>Biryani</td>\n",
       "      <td>Vijay Nagar</td>\n",
       "      <td>5</td>\n",
       "      <td>https://www.swiggy.com/restaurants/dilwale-res...</td>\n",
       "      <td>100</td>\n",
       "    </tr>\n",
       "    <tr>\n",
       "      <th>1270</th>\n",
       "      <td>Tea Day</td>\n",
       "      <td>4.6</td>\n",
       "      <td>Snacks</td>\n",
       "      <td>Vijay Nagar</td>\n",
       "      <td>5</td>\n",
       "      <td>https://www.swiggy.com/restaurants/dilwale-res...</td>\n",
       "      <td>200</td>\n",
       "    </tr>\n",
       "    <tr>\n",
       "      <th>1271</th>\n",
       "      <td>Dilwale Restaurant</td>\n",
       "      <td>3.7</td>\n",
       "      <td>Beverages</td>\n",
       "      <td>Central Bangalore</td>\n",
       "      <td>50</td>\n",
       "      <td>https://www.swiggy.com/restaurants/dilwale-res...</td>\n",
       "      <td>300</td>\n",
       "    </tr>\n",
       "  </tbody>\n",
       "</table>\n",
       "<p>1272 rows × 7 columns</p>\n",
       "</div>"
      ],
      "text/plain": [
       "            Restaurant_Name  Ratings       Cusines           Location  \\\n",
       "0              Hotel Empire      4.3        Kebabs       Brigade Road   \n",
       "1           Protein Station      4.6        Salads       Basavanagudi   \n",
       "2       Halli Donne Biryani      3.9  South Indian        Koramangala   \n",
       "3       Edesia by Freshmenu      3.9        Bakery      Richmond Town   \n",
       "4      Mangalore Sea Palate      4.1  South Indian          Jayanagar   \n",
       "...                     ...      ...           ...                ...   \n",
       "1267            Dream Cakes      4.6        Bakery          Jayanagar   \n",
       "1268  Dev Foods Jigarthanda      4.3       Chinese        Malleswaram   \n",
       "1269        SLN Tiffin Room      4.6       Biryani        Vijay Nagar   \n",
       "1270                Tea Day      4.6        Snacks        Vijay Nagar   \n",
       "1271     Dilwale Restaurant      3.7     Beverages  Central Bangalore   \n",
       "\n",
       "      Delivery_review_no                                    Restaurant_link  \\\n",
       "0                  10000  https://www.swiggy.com/restaurants/dilwale-res...   \n",
       "1                      5  https://www.swiggy.com/restaurants/dilwale-res...   \n",
       "2                   1000  https://www.swiggy.com/restaurants/dilwale-res...   \n",
       "3                    100  https://www.swiggy.com/restaurants/dilwale-res...   \n",
       "4                    100  https://www.swiggy.com/restaurants/dilwale-res...   \n",
       "...                  ...                                                ...   \n",
       "1267                   5  https://www.swiggy.com/restaurants/dilwale-res...   \n",
       "1268                 100  https://www.swiggy.com/restaurants/dilwale-res...   \n",
       "1269                   5  https://www.swiggy.com/restaurants/dilwale-res...   \n",
       "1270                   5  https://www.swiggy.com/restaurants/dilwale-res...   \n",
       "1271                  50  https://www.swiggy.com/restaurants/dilwale-res...   \n",
       "\n",
       "      Price_for_one  \n",
       "0               450  \n",
       "1               400  \n",
       "2               200  \n",
       "3               150  \n",
       "4               300  \n",
       "...             ...  \n",
       "1267            200  \n",
       "1268            100  \n",
       "1269            100  \n",
       "1270            200  \n",
       "1271            300  \n",
       "\n",
       "[1272 rows x 7 columns]"
      ]
     },
     "execution_count": 95,
     "metadata": {},
     "output_type": "execute_result"
    }
   ],
   "source": [
    "df"
   ]
  },
  {
   "cell_type": "code",
   "execution_count": 96,
   "id": "ba91722c",
   "metadata": {},
   "outputs": [],
   "source": [
    "for i in cat_lg:\n",
    "    df_lg[i]=le.fit_transform(df_lg[i])"
   ]
  },
  {
   "cell_type": "code",
   "execution_count": 97,
   "id": "b9e98311",
   "metadata": {},
   "outputs": [
    {
     "data": {
      "text/html": [
       "<div>\n",
       "<style scoped>\n",
       "    .dataframe tbody tr th:only-of-type {\n",
       "        vertical-align: middle;\n",
       "    }\n",
       "\n",
       "    .dataframe tbody tr th {\n",
       "        vertical-align: top;\n",
       "    }\n",
       "\n",
       "    .dataframe thead th {\n",
       "        text-align: right;\n",
       "    }\n",
       "</style>\n",
       "<table border=\"1\" class=\"dataframe\">\n",
       "  <thead>\n",
       "    <tr style=\"text-align: right;\">\n",
       "      <th></th>\n",
       "      <th>Ratings</th>\n",
       "      <th>Cusines</th>\n",
       "      <th>Location</th>\n",
       "      <th>Delivery_review_no</th>\n",
       "      <th>Price_for_one</th>\n",
       "    </tr>\n",
       "  </thead>\n",
       "  <tbody>\n",
       "    <tr>\n",
       "      <th>0</th>\n",
       "      <td>0.631579</td>\n",
       "      <td>34</td>\n",
       "      <td>10</td>\n",
       "      <td>1.000000</td>\n",
       "      <td>0.482759</td>\n",
       "    </tr>\n",
       "    <tr>\n",
       "      <th>1</th>\n",
       "      <td>0.789474</td>\n",
       "      <td>51</td>\n",
       "      <td>8</td>\n",
       "      <td>0.001208</td>\n",
       "      <td>0.413793</td>\n",
       "    </tr>\n",
       "    <tr>\n",
       "      <th>2</th>\n",
       "      <td>0.421053</td>\n",
       "      <td>54</td>\n",
       "      <td>29</td>\n",
       "      <td>0.401933</td>\n",
       "      <td>0.137931</td>\n",
       "    </tr>\n",
       "    <tr>\n",
       "      <th>3</th>\n",
       "      <td>0.421053</td>\n",
       "      <td>3</td>\n",
       "      <td>49</td>\n",
       "      <td>0.039468</td>\n",
       "      <td>0.068966</td>\n",
       "    </tr>\n",
       "    <tr>\n",
       "      <th>4</th>\n",
       "      <td>0.526316</td>\n",
       "      <td>54</td>\n",
       "      <td>28</td>\n",
       "      <td>0.039468</td>\n",
       "      <td>0.275862</td>\n",
       "    </tr>\n",
       "    <tr>\n",
       "      <th>...</th>\n",
       "      <td>...</td>\n",
       "      <td>...</td>\n",
       "      <td>...</td>\n",
       "      <td>...</td>\n",
       "      <td>...</td>\n",
       "    </tr>\n",
       "    <tr>\n",
       "      <th>1267</th>\n",
       "      <td>0.789474</td>\n",
       "      <td>3</td>\n",
       "      <td>28</td>\n",
       "      <td>0.001208</td>\n",
       "      <td>0.137931</td>\n",
       "    </tr>\n",
       "    <tr>\n",
       "      <th>1268</th>\n",
       "      <td>0.631579</td>\n",
       "      <td>13</td>\n",
       "      <td>34</td>\n",
       "      <td>0.039468</td>\n",
       "      <td>0.000000</td>\n",
       "    </tr>\n",
       "    <tr>\n",
       "      <th>1269</th>\n",
       "      <td>0.789474</td>\n",
       "      <td>7</td>\n",
       "      <td>61</td>\n",
       "      <td>0.001208</td>\n",
       "      <td>0.000000</td>\n",
       "    </tr>\n",
       "    <tr>\n",
       "      <th>1270</th>\n",
       "      <td>0.789474</td>\n",
       "      <td>53</td>\n",
       "      <td>61</td>\n",
       "      <td>0.001208</td>\n",
       "      <td>0.137931</td>\n",
       "    </tr>\n",
       "    <tr>\n",
       "      <th>1271</th>\n",
       "      <td>0.315789</td>\n",
       "      <td>6</td>\n",
       "      <td>12</td>\n",
       "      <td>0.019331</td>\n",
       "      <td>0.275862</td>\n",
       "    </tr>\n",
       "  </tbody>\n",
       "</table>\n",
       "<p>1272 rows × 5 columns</p>\n",
       "</div>"
      ],
      "text/plain": [
       "       Ratings  Cusines  Location  Delivery_review_no  Price_for_one\n",
       "0     0.631579       34        10            1.000000       0.482759\n",
       "1     0.789474       51         8            0.001208       0.413793\n",
       "2     0.421053       54        29            0.401933       0.137931\n",
       "3     0.421053        3        49            0.039468       0.068966\n",
       "4     0.526316       54        28            0.039468       0.275862\n",
       "...        ...      ...       ...                 ...            ...\n",
       "1267  0.789474        3        28            0.001208       0.137931\n",
       "1268  0.631579       13        34            0.039468       0.000000\n",
       "1269  0.789474        7        61            0.001208       0.000000\n",
       "1270  0.789474       53        61            0.001208       0.137931\n",
       "1271  0.315789        6        12            0.019331       0.275862\n",
       "\n",
       "[1272 rows x 5 columns]"
      ]
     },
     "execution_count": 97,
     "metadata": {},
     "output_type": "execute_result"
    }
   ],
   "source": [
    "df_lg"
   ]
  },
  {
   "cell_type": "code",
   "execution_count": 98,
   "id": "3a94ecba",
   "metadata": {},
   "outputs": [],
   "source": [
    "X_lg_cs=df_lg.drop(\"Cusines\",axis=1)\n",
    "y_lg_cs=df_lg[\"Cusines\"]"
   ]
  },
  {
   "cell_type": "code",
   "execution_count": 99,
   "id": "c707d395",
   "metadata": {},
   "outputs": [],
   "source": [
    "X_train_lg_cs,X_test_lg_cs,y_train_lg_cs,y_test_lg_cs=train_test_split(X_lg_cs,y_lg_cs,test_size=0.2,random_state=17)"
   ]
  },
  {
   "cell_type": "code",
   "execution_count": 100,
   "id": "bc5ec396",
   "metadata": {},
   "outputs": [],
   "source": [
    "from sklearn.tree import DecisionTreeClassifier\n",
    "from sklearn.ensemble import RandomForestClassifier"
   ]
  },
  {
   "cell_type": "code",
   "execution_count": 101,
   "id": "a502725a",
   "metadata": {},
   "outputs": [],
   "source": [
    "models_cs={\"LogisticRegression\":LogisticRegression(),\n",
    "       \"DecisionTreeClassifier\":DecisionTreeClassifier(criterion='gini',random_state=24),\n",
    "       \"RandomForestClassifier\":RandomForestClassifier(n_estimators=50,random_state=19)}"
   ]
  },
  {
   "cell_type": "code",
   "execution_count": 102,
   "id": "2cfcc043",
   "metadata": {
    "scrolled": true
   },
   "outputs": [
    {
     "name": "stderr",
     "output_type": "stream",
     "text": [
      "C:\\Users\\Manpreet\\anaconda3\\lib\\site-packages\\sklearn\\linear_model\\_logistic.py:814: ConvergenceWarning: lbfgs failed to converge (status=1):\n",
      "STOP: TOTAL NO. of ITERATIONS REACHED LIMIT.\n",
      "\n",
      "Increase the number of iterations (max_iter) or scale the data as shown in:\n",
      "    https://scikit-learn.org/stable/modules/preprocessing.html\n",
      "Please also refer to the documentation for alternative solver options:\n",
      "    https://scikit-learn.org/stable/modules/linear_model.html#logistic-regression\n",
      "  n_iter_i = _check_optimize_result(\n"
     ]
    },
    {
     "name": "stdout",
     "output_type": "stream",
     "text": [
      "LogisticRegression : 13.73%\n",
      "DecisionTreeClassifier : 7.45%\n",
      "RandomForestClassifier : 8.63%\n"
     ]
    }
   ],
   "source": [
    "for name,model in models_cs.items():\n",
    "    model.fit(X_train_lg_cs,y_train_lg_cs)\n",
    "    y_pred_lg_cs=model.predict(X_test_lg_cs)\n",
    "    print(name + \" : {:.2f}%\".format(metrics.accuracy_score(y_test_lg_cs,y_pred_lg_cs)*100))\n",
    "#     print()\n",
    "#     print(\"Recall :\", metrics.recall_score(y_test_lg,y_pred_lg))\n",
    "#     print()\n",
    "#     print(\"Precision :\", metrics.precision_score(y_test_lg,y_pred_lg))\n",
    "#     print()\n",
    "#     print(\"f1_score :\", metrics.f1_score(y_test_lg,y_pred_lg))\n",
    "#     print()\n",
    "#     print(metrics.classification_report(y_test_lg,y_pred_lg))\n",
    "#     print()\n",
    "#     sns.heatmap(metrics.confusion_matrix(y_test_lg,y_pred_lg),annot=True,fmt=\"g\")\n",
    "#     plt.show()\n",
    "    "
   ]
  },
  {
   "cell_type": "code",
   "execution_count": 133,
   "id": "39df41ec",
   "metadata": {
    "scrolled": false
   },
   "outputs": [
    {
     "data": {
      "text/html": [
       "<div>\n",
       "<style scoped>\n",
       "    .dataframe tbody tr th:only-of-type {\n",
       "        vertical-align: middle;\n",
       "    }\n",
       "\n",
       "    .dataframe tbody tr th {\n",
       "        vertical-align: top;\n",
       "    }\n",
       "\n",
       "    .dataframe thead th {\n",
       "        text-align: right;\n",
       "    }\n",
       "</style>\n",
       "<table border=\"1\" class=\"dataframe\">\n",
       "  <thead>\n",
       "    <tr style=\"text-align: right;\">\n",
       "      <th></th>\n",
       "      <th>Ratings</th>\n",
       "      <th>Cusines</th>\n",
       "      <th>Location</th>\n",
       "      <th>Delivery_review_no</th>\n",
       "      <th>Price_for_one</th>\n",
       "    </tr>\n",
       "  </thead>\n",
       "  <tbody>\n",
       "    <tr>\n",
       "      <th>0</th>\n",
       "      <td>0.631579</td>\n",
       "      <td>34</td>\n",
       "      <td>10</td>\n",
       "      <td>1.000000</td>\n",
       "      <td>0.482759</td>\n",
       "    </tr>\n",
       "    <tr>\n",
       "      <th>1</th>\n",
       "      <td>0.789474</td>\n",
       "      <td>51</td>\n",
       "      <td>8</td>\n",
       "      <td>0.001208</td>\n",
       "      <td>0.413793</td>\n",
       "    </tr>\n",
       "    <tr>\n",
       "      <th>2</th>\n",
       "      <td>0.421053</td>\n",
       "      <td>54</td>\n",
       "      <td>29</td>\n",
       "      <td>0.401933</td>\n",
       "      <td>0.137931</td>\n",
       "    </tr>\n",
       "    <tr>\n",
       "      <th>3</th>\n",
       "      <td>0.421053</td>\n",
       "      <td>3</td>\n",
       "      <td>49</td>\n",
       "      <td>0.039468</td>\n",
       "      <td>0.068966</td>\n",
       "    </tr>\n",
       "    <tr>\n",
       "      <th>4</th>\n",
       "      <td>0.526316</td>\n",
       "      <td>54</td>\n",
       "      <td>28</td>\n",
       "      <td>0.039468</td>\n",
       "      <td>0.275862</td>\n",
       "    </tr>\n",
       "    <tr>\n",
       "      <th>...</th>\n",
       "      <td>...</td>\n",
       "      <td>...</td>\n",
       "      <td>...</td>\n",
       "      <td>...</td>\n",
       "      <td>...</td>\n",
       "    </tr>\n",
       "    <tr>\n",
       "      <th>1267</th>\n",
       "      <td>0.789474</td>\n",
       "      <td>3</td>\n",
       "      <td>28</td>\n",
       "      <td>0.001208</td>\n",
       "      <td>0.137931</td>\n",
       "    </tr>\n",
       "    <tr>\n",
       "      <th>1268</th>\n",
       "      <td>0.631579</td>\n",
       "      <td>13</td>\n",
       "      <td>34</td>\n",
       "      <td>0.039468</td>\n",
       "      <td>0.000000</td>\n",
       "    </tr>\n",
       "    <tr>\n",
       "      <th>1269</th>\n",
       "      <td>0.789474</td>\n",
       "      <td>7</td>\n",
       "      <td>61</td>\n",
       "      <td>0.001208</td>\n",
       "      <td>0.000000</td>\n",
       "    </tr>\n",
       "    <tr>\n",
       "      <th>1270</th>\n",
       "      <td>0.789474</td>\n",
       "      <td>53</td>\n",
       "      <td>61</td>\n",
       "      <td>0.001208</td>\n",
       "      <td>0.137931</td>\n",
       "    </tr>\n",
       "    <tr>\n",
       "      <th>1271</th>\n",
       "      <td>0.315789</td>\n",
       "      <td>6</td>\n",
       "      <td>12</td>\n",
       "      <td>0.019331</td>\n",
       "      <td>0.275862</td>\n",
       "    </tr>\n",
       "  </tbody>\n",
       "</table>\n",
       "<p>1272 rows × 5 columns</p>\n",
       "</div>"
      ],
      "text/plain": [
       "       Ratings  Cusines  Location  Delivery_review_no  Price_for_one\n",
       "0     0.631579       34        10            1.000000       0.482759\n",
       "1     0.789474       51         8            0.001208       0.413793\n",
       "2     0.421053       54        29            0.401933       0.137931\n",
       "3     0.421053        3        49            0.039468       0.068966\n",
       "4     0.526316       54        28            0.039468       0.275862\n",
       "...        ...      ...       ...                 ...            ...\n",
       "1267  0.789474        3        28            0.001208       0.137931\n",
       "1268  0.631579       13        34            0.039468       0.000000\n",
       "1269  0.789474        7        61            0.001208       0.000000\n",
       "1270  0.789474       53        61            0.001208       0.137931\n",
       "1271  0.315789        6        12            0.019331       0.275862\n",
       "\n",
       "[1272 rows x 5 columns]"
      ]
     },
     "execution_count": 133,
     "metadata": {},
     "output_type": "execute_result"
    }
   ],
   "source": [
    "df_lg"
   ]
  },
  {
   "cell_type": "code",
   "execution_count": 134,
   "id": "1aa7924c",
   "metadata": {},
   "outputs": [],
   "source": [
    "X_lg_lc=df_lg.drop([\"Location\",\"Ratings\",\"Delivery_review_no\"],axis=1)\n",
    "y_lg_lc=df_lg[\"Location\"]"
   ]
  },
  {
   "cell_type": "code",
   "execution_count": 135,
   "id": "c22e2c76",
   "metadata": {},
   "outputs": [],
   "source": [
    "X_train_lg_lc,X_test_lg_lc,y_train_lg_lc,y_test_lg_lc=train_test_split(X_lg_lc,y_lg_lc,test_size=0.2,random_state=17)"
   ]
  },
  {
   "cell_type": "code",
   "execution_count": 136,
   "id": "a6cfc9d0",
   "metadata": {},
   "outputs": [],
   "source": [
    "models_lc={\"LogisticRegression\":LogisticRegression(),\n",
    "       \"DecisionTreeClassifier\":DecisionTreeClassifier(criterion='gini',random_state=24),\n",
    "       \"RandomForestClassifier\":RandomForestClassifier(n_estimators=50,random_state=19)}"
   ]
  },
  {
   "cell_type": "code",
   "execution_count": 138,
   "id": "20a8dcc9",
   "metadata": {},
   "outputs": [
    {
     "name": "stdout",
     "output_type": "stream",
     "text": [
      "LogisticRegression : 14.90%\n",
      "DecisionTreeClassifier : 11.76%\n",
      "RandomForestClassifier : 12.55%\n"
     ]
    },
    {
     "name": "stderr",
     "output_type": "stream",
     "text": [
      "C:\\Users\\Manpreet\\anaconda3\\lib\\site-packages\\sklearn\\linear_model\\_logistic.py:814: ConvergenceWarning: lbfgs failed to converge (status=1):\n",
      "STOP: TOTAL NO. of ITERATIONS REACHED LIMIT.\n",
      "\n",
      "Increase the number of iterations (max_iter) or scale the data as shown in:\n",
      "    https://scikit-learn.org/stable/modules/preprocessing.html\n",
      "Please also refer to the documentation for alternative solver options:\n",
      "    https://scikit-learn.org/stable/modules/linear_model.html#logistic-regression\n",
      "  n_iter_i = _check_optimize_result(\n"
     ]
    }
   ],
   "source": [
    "for name,model in models_lc.items():\n",
    "    model.fit(X_train_lg_lc,y_train_lg_lc)\n",
    "    y_pred_lg_lc=model.predict(X_test_lg_lc)\n",
    "    print(name + \" : {:.2f}%\".format(metrics.accuracy_score(y_test_lg_lc,y_pred_lg_lc)*100))"
   ]
  }
 ],
 "metadata": {
  "kernelspec": {
   "display_name": "Python 3 (ipykernel)",
   "language": "python",
   "name": "python3"
  },
  "language_info": {
   "codemirror_mode": {
    "name": "ipython",
    "version": 3
   },
   "file_extension": ".py",
   "mimetype": "text/x-python",
   "name": "python",
   "nbconvert_exporter": "python",
   "pygments_lexer": "ipython3",
   "version": "3.9.13"
  }
 },
 "nbformat": 4,
 "nbformat_minor": 5
}
